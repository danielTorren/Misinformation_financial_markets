{
 "cells": [
  {
   "cell_type": "markdown",
   "metadata": {},
   "source": [
    "In the following notebook is contained the code required to reproduce each of the figures found in the paper."
   ]
  },
  {
   "cell_type": "code",
   "execution_count": 1,
   "metadata": {},
   "outputs": [],
   "source": [
    "import gen_single_shot, gen_vary_single_param, gen_two_param_vary, gen_sensitivity_analysis, gen_surrogate_data\n",
    "import plot_network_properties, plot_two_param_vary, plot_sensitivity_analysis"
   ]
  },
  {
   "cell_type": "markdown",
   "metadata": {},
   "source": [
    "Figure 1: Small World Network"
   ]
  },
  {
   "cell_type": "code",
   "execution_count": null,
   "metadata": {},
   "outputs": [],
   "source": [
    "fileName_Figure_2_a = gen_single_shot.main(\n",
    "    base_params_load = \"constants/base_params_small_world.json\"\n",
    "    )\n",
    "\n",
    "fileName_Figure_2_b = gen_vary_single_param.main(\n",
    "    base_params_load = \"constants/base_params_small_world.json\",\n",
    "    varied_param_load= \"constants/varied_param_seed.json\"\n",
    "    )"
   ]
  },
  {
   "cell_type": "markdown",
   "metadata": {},
   "source": [
    "Alternatively load in data from a pre-done run"
   ]
  },
  {
   "cell_type": "code",
   "execution_count": null,
   "metadata": {},
   "outputs": [],
   "source": [
    "fileName_Figure_2_a = \"results/small_worldsingle_shot_15_21_07_25_04_2024\"\n",
    "fileName_Figure_2_b = \"results/small_worldsingle_vary_set_seed_15_21_08_25_04_2024\""
   ]
  },
  {
   "cell_type": "markdown",
   "metadata": {},
   "source": [
    "Next we plot results"
   ]
  },
  {
   "cell_type": "code",
   "execution_count": null,
   "metadata": {},
   "outputs": [],
   "source": [
    "plot_network_properties.main(    \n",
    "    fileName_single = fileName_Figure_2_a,\n",
    "    fileName_multi = fileName_Figure_2_b,\n",
    "    network_structure = \"small_world\"\n",
    "    )"
   ]
  },
  {
   "cell_type": "markdown",
   "metadata": {},
   "source": [
    "Figure 2: Stochastic Block Network"
   ]
  },
  {
   "cell_type": "code",
   "execution_count": null,
   "metadata": {},
   "outputs": [],
   "source": [
    "fileName_Figure_3_a = gen_single_shot.main(\n",
    "    base_params_load = \"constants/base_params_SBM.json\"\n",
    "    )\n",
    "\n",
    "fileName_Figure_3_b = gen_vary_single_param.main(\n",
    "    base_params_load = \"constants/base_params_SBM.json\",\n",
    "    varied_param_load= \"constants/varied_param_seed.json\"\n",
    "    )"
   ]
  },
  {
   "cell_type": "markdown",
   "metadata": {},
   "source": [
    "Alternatively load in data from a pre-done run"
   ]
  },
  {
   "cell_type": "code",
   "execution_count": null,
   "metadata": {},
   "outputs": [],
   "source": [
    "fileName_Figure_3_a = \"results/\"\n",
    "fileName_Figure_3_b = \"results/\""
   ]
  },
  {
   "cell_type": "markdown",
   "metadata": {},
   "source": [
    "Next plot results"
   ]
  },
  {
   "cell_type": "code",
   "execution_count": null,
   "metadata": {},
   "outputs": [],
   "source": [
    "plot_network_properties.main(    \n",
    "    fileName_single = fileName_Figure_3_a,\n",
    "    fileName_multi = fileName_Figure_3_b,\n",
    "    network_structure = \"SBM\"\n",
    "    )"
   ]
  },
  {
   "cell_type": "markdown",
   "metadata": {},
   "source": [
    "Figure 4: Scale Free Network with Central Informed Agents"
   ]
  },
  {
   "cell_type": "code",
   "execution_count": null,
   "metadata": {},
   "outputs": [],
   "source": [
    "fileName_Figure_4_a = gen_single_shot.main(\n",
    "    base_params_load = \"constants/base_params_scale_free_CIA.json\"\n",
    "    )\n",
    "\n",
    "fileName_Figure_4_b = gen_vary_single_param.main(\n",
    "    base_params_load = \"constants/base_params_scale_free_CIA.json\",\n",
    "    varied_param_load= \"constants/varied_param_seed.json\"\n",
    "    )"
   ]
  },
  {
   "cell_type": "markdown",
   "metadata": {},
   "source": [
    "Alternatively load in data from pre-done run"
   ]
  },
  {
   "cell_type": "code",
   "execution_count": null,
   "metadata": {},
   "outputs": [],
   "source": [
    "fileName_Figure_4_a = \"results/\"\n",
    "fileName_Figure_4_b = \"results/\""
   ]
  },
  {
   "cell_type": "markdown",
   "metadata": {},
   "source": [
    "Next plot results"
   ]
  },
  {
   "cell_type": "code",
   "execution_count": null,
   "metadata": {},
   "outputs": [],
   "source": [
    "plot_network_properties.main(    \n",
    "    fileName_single = fileName_Figure_4_a,\n",
    "    fileName_multi = fileName_Figure_4_b,\n",
    "    network_structure = \"scale_free\"\n",
    "    )"
   ]
  },
  {
   "cell_type": "markdown",
   "metadata": {},
   "source": [
    "Figure 5: Scale Free Network with Central Misinformed Agents"
   ]
  },
  {
   "cell_type": "code",
   "execution_count": null,
   "metadata": {},
   "outputs": [],
   "source": [
    "fileName_Figure_5_a = gen_single_shot.main(\n",
    "    base_params_load = \"constants/base_params_scale_free_CMA.json\"\n",
    "    )\n",
    "\n",
    "fileName_Figure_5_b = gen_vary_single_param.main(\n",
    "    base_params_load = \"constants/base_params_scale_free_CMA.json\",\n",
    "    varied_param_load= \"constants/varied_param_seed.json\"\n",
    "    )"
   ]
  },
  {
   "cell_type": "markdown",
   "metadata": {},
   "source": [
    "Alternatively load in data from pre-done run"
   ]
  },
  {
   "cell_type": "code",
   "execution_count": null,
   "metadata": {},
   "outputs": [],
   "source": [
    "fileName_Figure_5_a = \"results/\"\n",
    "fileName_Figure_5_b = \"results/\""
   ]
  },
  {
   "cell_type": "markdown",
   "metadata": {},
   "source": [
    "Next plot results"
   ]
  },
  {
   "cell_type": "code",
   "execution_count": null,
   "metadata": {},
   "outputs": [],
   "source": [
    "plot_network_properties.main(    \n",
    "    fileName_single = fileName_Figure_5_a,\n",
    "    fileName_multi = fileName_Figure_5_b,\n",
    "    network_structure = \"scale_free\"\n",
    "    )"
   ]
  },
  {
   "cell_type": "markdown",
   "metadata": {},
   "source": [
    "Figure 6: Contours Small World Network"
   ]
  },
  {
   "cell_type": "code",
   "execution_count": null,
   "metadata": {},
   "outputs": [],
   "source": [
    "fileName_Figure_6 = gen_two_param_vary.main(\n",
    "    base_params_load = \"constants/base_params_2D_small_world.json\",\n",
    "    varied_param_load = \"constants/variable_parameters_dict_2D.json\",\n",
    ")"
   ]
  },
  {
   "cell_type": "markdown",
   "metadata": {},
   "source": [
    "Alternatively load in data from pre-done run"
   ]
  },
  {
   "cell_type": "code",
   "execution_count": null,
   "metadata": {},
   "outputs": [],
   "source": [
    "fileName_Figure_6 = \"results/two_param_sweep_average_small_world_21_56_21_25_04_2024\""
   ]
  },
  {
   "cell_type": "code",
   "execution_count": null,
   "metadata": {},
   "outputs": [],
   "source": [
    "plot_two_param_vary.main(    \n",
    "    fileName = fileName_Figure_6\n",
    "    )"
   ]
  },
  {
   "cell_type": "markdown",
   "metadata": {},
   "source": [
    "Figure 7: Contours Stochastic Block Network"
   ]
  },
  {
   "cell_type": "code",
   "execution_count": null,
   "metadata": {},
   "outputs": [],
   "source": [
    "fileName_Figure_7 = gen_two_param_vary.main(\n",
    "    base_params_load = \"constants/base_params_2D_SBM.json\",\n",
    "    varied_param_load = \"constants/variable_parameters_dict_2D.json\",\n",
    ")"
   ]
  },
  {
   "cell_type": "markdown",
   "metadata": {},
   "source": [
    "Alternatively load in data from pre-done run"
   ]
  },
  {
   "cell_type": "code",
   "execution_count": null,
   "metadata": {},
   "outputs": [],
   "source": [
    "fileName_Figure_7 = \"results/\""
   ]
  },
  {
   "cell_type": "code",
   "execution_count": null,
   "metadata": {},
   "outputs": [],
   "source": [
    "plot_two_param_vary.main(    \n",
    "    fileName = fileName_Figure_7\n",
    "    )"
   ]
  },
  {
   "cell_type": "markdown",
   "metadata": {},
   "source": [
    "Figure 8: Contours Scale Free Network with Central Informed Agents"
   ]
  },
  {
   "cell_type": "code",
   "execution_count": null,
   "metadata": {},
   "outputs": [],
   "source": [
    "fileName_Figure_8 = gen_two_param_vary.main(\n",
    "    base_params_load = \"constants/base_params_2D_scale_free_CIA.json\",\n",
    "    varied_param_load = \"constants/variable_parameters_dict_2D.json\",\n",
    ")"
   ]
  },
  {
   "cell_type": "markdown",
   "metadata": {},
   "source": [
    "Alternatively load in data from pre-done run"
   ]
  },
  {
   "cell_type": "code",
   "execution_count": null,
   "metadata": {},
   "outputs": [],
   "source": [
    "fileName_Figure_8 = \"results/\""
   ]
  },
  {
   "cell_type": "code",
   "execution_count": null,
   "metadata": {},
   "outputs": [],
   "source": [
    "plot_two_param_vary.main(    \n",
    "    fileName = fileName_Figure_8\n",
    "    )"
   ]
  },
  {
   "cell_type": "markdown",
   "metadata": {},
   "source": [
    "Figure 9: Contours Scale Free Network with Central Misinformed Agents"
   ]
  },
  {
   "cell_type": "code",
   "execution_count": null,
   "metadata": {},
   "outputs": [],
   "source": [
    "fileName_Figure_9 = gen_two_param_vary.main(\n",
    "    base_params_load = \"constants/base_params_2D_scale_free_CMA.json\",\n",
    "    varied_param_load = \"constants/variable_parameters_dict_2D.json\",\n",
    ")"
   ]
  },
  {
   "cell_type": "markdown",
   "metadata": {},
   "source": [
    "Alternatively load in data from pre-done run"
   ]
  },
  {
   "cell_type": "code",
   "execution_count": null,
   "metadata": {},
   "outputs": [],
   "source": [
    "fileName_Figure_9 = \"results/\""
   ]
  },
  {
   "cell_type": "code",
   "execution_count": null,
   "metadata": {},
   "outputs": [],
   "source": [
    "plot_two_param_vary.main(    \n",
    "    fileName = fileName_Figure_9\n",
    "    )"
   ]
  },
  {
   "cell_type": "markdown",
   "metadata": {},
   "source": [
    "Sobol sensitivity analysis of model parameters"
   ]
  },
  {
   "cell_type": "markdown",
   "metadata": {},
   "source": [
    "Figure 8: Small World\n",
    "\n",
    "WARNING: As there are a large number of runs in the data used to generate this plot it will take a considerable time. In the case of the Figure [INSERT FIGURE NUMBER] we ran [INSERT RUNS SUMBER] experiments, this took approximately 1 week on a server with 40 cores. Reduce \"N_samples\" to decrease run time, must be a power of two."
   ]
  },
  {
   "cell_type": "code",
   "execution_count": 2,
   "metadata": {},
   "outputs": [
    {
     "name": "stdout",
     "output_type": "stream",
     "text": [
      "Average reps:  5\n",
      "samples:  40\n",
      "Total runs:  200\n",
      "problem, N_samples {'num_vars': 8, 'names': ['theta_sigma', 'gamma_mean', 'gamma_sigma', 'epsilon_sigma', 'proportion_informed', 'proportion_misinformed', 'ar_1_coefficient', 'w'], 'bounds': [[0.1, 2], [-1.0, 1.0], [0.1, 2], [0.1, 2], [0.01, 0.25], [0.01, 0.25], [0.05, 0.9], [0.05, 0.99]]} 4 <class 'int'>\n",
      "round_variable_list: []\n"
     ]
    },
    {
     "name": "stderr",
     "output_type": "stream",
     "text": [
      "[Parallel(n_jobs=12)]: Using backend LokyBackend with 12 concurrent workers.\n",
      "[Parallel(n_jobs=12)]: Done   1 tasks      | elapsed:    6.0s\n",
      "[Parallel(n_jobs=12)]: Done   8 tasks      | elapsed:    6.3s\n",
      "[Parallel(n_jobs=12)]: Done  17 tasks      | elapsed:    6.6s\n",
      "[Parallel(n_jobs=12)]: Done  22 out of  40 | elapsed:    6.7s remaining:    5.5s\n",
      "[Parallel(n_jobs=12)]: Done  27 out of  40 | elapsed:    6.9s remaining:    3.3s\n",
      "[Parallel(n_jobs=12)]: Done  32 out of  40 | elapsed:    7.0s remaining:    1.7s\n",
      "[Parallel(n_jobs=12)]: Done  37 out of  40 | elapsed:    7.1s remaining:    0.5s\n"
     ]
    },
    {
     "name": "stdout",
     "output_type": "stream",
     "text": [
      "fileName: results/sensitivity_analysis_22_21_25_25_04_2024\n"
     ]
    },
    {
     "name": "stderr",
     "output_type": "stream",
     "text": [
      "[Parallel(n_jobs=12)]: Done  40 out of  40 | elapsed:    7.2s finished\n"
     ]
    }
   ],
   "source": [
    "fileName_Figure_10 = gen_sensitivity_analysis.main(\n",
    "    base_params_load = \"constants/base_params_SA_small_world.json\",\n",
    "    varied_param_load = \"constants/variable_parameters_dict_SA.json\"\n",
    ")"
   ]
  },
  {
   "cell_type": "markdown",
   "metadata": {},
   "source": [
    "Alternatively load in data from pre-done run"
   ]
  },
  {
   "cell_type": "code",
   "execution_count": null,
   "metadata": {},
   "outputs": [],
   "source": [
    "fileName_Figure_10 = \"results/...\""
   ]
  },
  {
   "cell_type": "markdown",
   "metadata": {},
   "source": [
    "Next plot results"
   ]
  },
  {
   "cell_type": "code",
   "execution_count": 3,
   "metadata": {},
   "outputs": [
    {
     "data": {
      "image/png": "[encoded data removed]",
      "text/plain": [
       "<Figure size 1280x720 with 4 Axes>"
      ]
     },
     "metadata": {},
     "output_type": "display_data"
    },
    {
     "data": {
      "image/png": "[encoded data removed]",
      "text/plain": [
       "<Figure size 1280x720 with 4 Axes>"
      ]
     },
     "metadata": {},
     "output_type": "display_data"
    }
   ],
   "source": [
    "plot_sensitivity_analysis.main(\n",
    "    fileName = fileName_Figure_10,\n",
    "    plot_outputs = [\"price_mean\",\"price_var\",\"price_autocorr\",\"price_kurtosis\"]\n",
    "    )"
   ]
  },
  {
   "cell_type": "markdown",
   "metadata": {},
   "source": [
    "Figure 11: Stochastic Block Model"
   ]
  },
  {
   "cell_type": "code",
   "execution_count": null,
   "metadata": {},
   "outputs": [],
   "source": [
    "fileName_Figure_11 = gen_sensitivity_analysis.main(\n",
    "    base_params_load = \"constants/base_params_SA_SBM.json\",\n",
    "    varied_param_load = \"constants/variable_parameters_dict_SA.json\"\n",
    ")"
   ]
  },
  {
   "cell_type": "code",
   "execution_count": null,
   "metadata": {},
   "outputs": [],
   "source": [
    "fileName_Figure_11 = \"results/...\""
   ]
  },
  {
   "cell_type": "code",
   "execution_count": null,
   "metadata": {},
   "outputs": [],
   "source": [
    "plot_sensitivity_analysis.main(\n",
    "    fileName = fileName_Figure_11,\n",
    "    plot_outputs = [\"price_mean\",\"price_var\",\"price_autocorr\",\"price_kurtosis\"]\n",
    "    )"
   ]
  },
  {
   "cell_type": "markdown",
   "metadata": {},
   "source": [
    "Figure 12: Scale Free Network with Central Informed Agents"
   ]
  },
  {
   "cell_type": "code",
   "execution_count": null,
   "metadata": {},
   "outputs": [],
   "source": [
    "fileName_Figure_12 = gen_sensitivity_analysis.main(\n",
    "    base_params_load = \"constants/base_params_SA_scale_free_CIA.json\",\n",
    "    varied_param_load = \"constants/variable_parameters_dict_SA.json\"\n",
    ")"
   ]
  },
  {
   "cell_type": "code",
   "execution_count": null,
   "metadata": {},
   "outputs": [],
   "source": [
    "fileName_Figure_12 = \"results/...\""
   ]
  },
  {
   "cell_type": "code",
   "execution_count": null,
   "metadata": {},
   "outputs": [],
   "source": [
    "plot_sensitivity_analysis.main(\n",
    "    fileName = fileName_Figure_12,\n",
    "    plot_outputs = [\"price_mean\",\"price_var\",\"price_autocorr\",\"price_kurtosis\"]\n",
    "    )"
   ]
  },
  {
   "cell_type": "markdown",
   "metadata": {},
   "source": [
    "Figrue 13: Scale Free Network with Central Misinformed Agents"
   ]
  },
  {
   "cell_type": "code",
   "execution_count": null,
   "metadata": {},
   "outputs": [],
   "source": [
    "fileName_Figure_13 = gen_sensitivity_analysis.main(\n",
    "    base_params_load = \"constants/base_params_SA_scale_free_CMA.json\",\n",
    "    varied_param_load = \"constants/variable_parameters_dict_SA.json\"\n",
    ")"
   ]
  },
  {
   "cell_type": "code",
   "execution_count": null,
   "metadata": {},
   "outputs": [],
   "source": [
    "fileName_Figure_13 = \"results/...\""
   ]
  },
  {
   "cell_type": "code",
   "execution_count": null,
   "metadata": {},
   "outputs": [],
   "source": [
    "plot_sensitivity_analysis.main(\n",
    "    fileName = fileName_Figure_13,\n",
    "    plot_outputs = [\"price_mean\",\"price_var\",\"price_autocorr\",\"price_kurtosis\"]\n",
    "    )"
   ]
  },
  {
   "cell_type": "markdown",
   "metadata": {},
   "source": [
    "Figure 14: Surrogate modelling"
   ]
  },
  {
   "cell_type": "code",
   "execution_count": null,
   "metadata": {},
   "outputs": [],
   "source": [
    "fileName_Figure_14 = gen_surrogate_data.main(\n",
    "    base_params_load = \"constants/base_params_surrogate_small_world.json\",\n",
    "    varied_param_load = \"constants/variable_parameters_dict_SA.json\"\n",
    ")"
   ]
  }
 ],
 "metadata": {
  "kernelspec": {
   "display_name": "venv",
   "language": "python",
   "name": "venv"
  },
  "language_info": {
   "codemirror_mode": {
    "name": "ipython",
    "version": 3
   },
   "file_extension": ".py",
   "mimetype": "text/x-python",
   "name": "python",
   "nbconvert_exporter": "python",
   "pygments_lexer": "ipython3",
   "version": "3.11.1"
  }
 },
 "nbformat": 4,
 "nbformat_minor": 2
}
