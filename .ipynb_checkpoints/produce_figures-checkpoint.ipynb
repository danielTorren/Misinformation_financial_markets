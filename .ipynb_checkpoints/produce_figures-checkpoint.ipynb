{
 "cells": [
  {
   "cell_type": "markdown",
   "metadata": {},
   "source": [
    "In the following notebook is contained the code required to reproduce each of the figures found in the paper."
   ]
  },
  {
   "cell_type": "code",
   "execution_count": 1,
   "metadata": {},
   "outputs": [],
   "source": [
    "import gen_single_shot, gen_vary_single_param, gen_two_param_vary, gen_sensitivity_analysis\n",
    "import plot_network_properties, plot_two_param_vary, plot_sensitivity_analysis"
   ]
  },
  {
   "cell_type": "markdown",
   "metadata": {},
   "source": [
    "Figure 1: Small World Network"
   ]
  },
  {
   "cell_type": "code",
   "execution_count": 2,
   "metadata": {},
   "outputs": [
    {
     "ename": "FileNotFoundError",
     "evalue": "[Errno 2] No such file or directory: 'package/constants/base_params_small_world.json'",
     "output_type": "error",
     "traceback": [
      "\u001b[1;31m-----------------------------\u001b[0m",
      "\u001b[1;31mFileNotFoundError\u001b[0mTraceback (most recent call last)",
      "Cell \u001b[1;32mIn[2], line 1\u001b[0m\n\u001b[1;32m----> 1\u001b[0m fileName_Figure_2_a \u001b[38;5;241m=\u001b[39m \u001b[43mgen_single_shot\u001b[49m\u001b[38;5;241;43m.\u001b[39;49m\u001b[43mmain\u001b[49m\u001b[43m(\u001b[49m\n\u001b[0;32m      2\u001b[0m \u001b[43m    \u001b[49m\u001b[43mbase_params_load\u001b[49m\u001b[43m \u001b[49m\u001b[38;5;241;43m=\u001b[39;49m\u001b[43m \u001b[49m\u001b[38;5;124;43m\"\u001b[39;49m\u001b[38;5;124;43mpackage/constants/base_params_small_world.json\u001b[39;49m\u001b[38;5;124;43m\"\u001b[39;49m\n\u001b[0;32m      3\u001b[0m \u001b[43m    \u001b[49m\u001b[43m)\u001b[49m\n\u001b[0;32m      5\u001b[0m fileName_Figure_2_b \u001b[38;5;241m=\u001b[39m gen_vary_single_param\u001b[38;5;241m.\u001b[39mmain(\n\u001b[0;32m      6\u001b[0m     base_params_load \u001b[38;5;241m=\u001b[39m \u001b[38;5;124m\"\u001b[39m\u001b[38;5;124mpackage/constants/base_params_small_world.json\u001b[39m\u001b[38;5;124m\"\u001b[39m,\n\u001b[0;32m      7\u001b[0m     varied_param_load\u001b[38;5;241m=\u001b[39m \u001b[38;5;124m\"\u001b[39m\u001b[38;5;124mpackage/constants/varied_param_seed.json\u001b[39m\u001b[38;5;124m\"\u001b[39m\n\u001b[0;32m      8\u001b[0m     )\n",
      "File \u001b[1;32m~\\Documents_temp\\Code\\Misinformation_financial_markets\\gen_single_shot.py:24\u001b[0m, in \u001b[0;36mmain\u001b[1;34m(base_params_load)\u001b[0m\n\u001b[0;32m     20\u001b[0m \u001b[38;5;28;01mdef\u001b[39;00m \u001b[38;5;21mmain\u001b[39m(\n\u001b[0;32m     21\u001b[0m         base_params_load \u001b[38;5;241m=\u001b[39m \u001b[38;5;124m\"\u001b[39m\u001b[38;5;124mconstants/base_params.json\u001b[39m\u001b[38;5;124m\"\u001b[39m\n\u001b[0;32m     22\u001b[0m ):\n\u001b[0;32m     23\u001b[0m     \u001b[38;5;66;03m#load in exogenous parameters\u001b[39;00m\n\u001b[1;32m---> 24\u001b[0m     f \u001b[38;5;241m=\u001b[39m \u001b[38;5;28;43mopen\u001b[39;49m\u001b[43m(\u001b[49m\u001b[43mbase_params_load\u001b[49m\u001b[43m)\u001b[49m\n\u001b[0;32m     25\u001b[0m     params \u001b[38;5;241m=\u001b[39m json\u001b[38;5;241m.\u001b[39mload(f)\n\u001b[0;32m     27\u001b[0m     rootName \u001b[38;5;241m=\u001b[39m params[\u001b[38;5;124m\"\u001b[39m\u001b[38;5;124mnetwork_type\u001b[39m\u001b[38;5;124m\"\u001b[39m] \u001b[38;5;241m+\u001b[39m\u001b[38;5;124m\"\u001b[39m\u001b[38;5;124msingle_shot\u001b[39m\u001b[38;5;124m\"\u001b[39m\n",
      "\u001b[1;31mFileNotFoundError\u001b[0m: [Errno 2] No such file or directory: 'package/constants/base_params_small_world.json'"
     ]
    }
   ],
   "source": [
    "fileName_Figure_2_a = gen_single_shot.main(\n",
    "    base_params_load = \"package/constants/base_params_small_world.json\"\n",
    "    )\n",
    "\n",
    "fileName_Figure_2_b = gen_vary_single_param.main(\n",
    "    base_params_load = \"package/constants/base_params_small_world.json\",\n",
    "    varied_param_load= \"package/constants/varied_param_seed.json\"\n",
    "    )"
   ]
  },
  {
   "cell_type": "markdown",
   "metadata": {},
   "source": [
    "Alternatively load in data from a pre-done run"
   ]
  },
  {
   "cell_type": "code",
   "execution_count": null,
   "metadata": {},
   "outputs": [],
   "source": [
    "fileName_Figure_2_a = \"results/\"\n",
    "fileName_Figure_2_b = \"results/\""
   ]
  },
  {
   "cell_type": "markdown",
   "metadata": {},
   "source": [
    "Next we plot results"
   ]
  },
  {
   "cell_type": "code",
   "execution_count": null,
   "metadata": {},
   "outputs": [],
   "source": [
    "plot_network_properties.main(    \n",
    "    fileName_single = fileName_Figure_2_a,\n",
    "    fileName_multi = fileName_Figure_2_b,\n",
    "    network_structure = \"small_world\"\n",
    "    )"
   ]
  },
  {
   "cell_type": "markdown",
   "metadata": {},
   "source": [
    "Figure 2: Stochastic Block Network"
   ]
  },
  {
   "cell_type": "code",
   "execution_count": null,
   "metadata": {},
   "outputs": [],
   "source": [
    "fileName_Figure_3_a = gen_single_shot.main(\n",
    "    base_params_load = \"package/constants/base_params_SBM.json\"\n",
    "    )\n",
    "\n",
    "fileName_Figure_3_b = gen_vary_single_param.main(\n",
    "    base_params_load = \"package/constants/base_params_SBM.json\",\n",
    "    varied_param_load= \"package/constants/varied_param_seed.json\"\n",
    "    )"
   ]
  },
  {
   "cell_type": "markdown",
   "metadata": {},
   "source": [
    "Alternatively load in data from a pre-done run"
   ]
  },
  {
   "cell_type": "code",
   "execution_count": null,
   "metadata": {},
   "outputs": [],
   "source": [
    "fileName_Figure_3_a = \"results/\"\n",
    "fileName_Figure_3_b = \"results/\""
   ]
  },
  {
   "cell_type": "markdown",
   "metadata": {},
   "source": [
    "Next plot results"
   ]
  },
  {
   "cell_type": "code",
   "execution_count": null,
   "metadata": {},
   "outputs": [],
   "source": [
    "plot_network_properties.main(    \n",
    "    fileName_single = fileName_Figure_3_a,\n",
    "    fileName_multi = fileName_Figure_3_b,\n",
    "    network_structure = \"SBM\"\n",
    "    )"
   ]
  },
  {
   "cell_type": "markdown",
   "metadata": {},
   "source": [
    "Figure 4: Scale Free Network with Central Informed Agents"
   ]
  },
  {
   "cell_type": "code",
   "execution_count": null,
   "metadata": {},
   "outputs": [],
   "source": [
    "fileName_Figure_4_a = gen_single_shot.main(\n",
    "    base_params_load = \"package/constants/base_params_scale_free_CIA.json\"\n",
    "    )\n",
    "\n",
    "fileName_Figure_4_b = gen_vary_single_param.main(\n",
    "    base_params_load = \"package/constants/base_params_scale_free_CIA.json\",\n",
    "    varied_param_load= \"package/constants/varied_param_seed.json\"\n",
    "    )"
   ]
  },
  {
   "cell_type": "markdown",
   "metadata": {},
   "source": [
    "Alternatively load in data from pre-done run"
   ]
  },
  {
   "cell_type": "code",
   "execution_count": null,
   "metadata": {},
   "outputs": [],
   "source": [
    "fileName_Figure_4_a = \"results/\"\n",
    "fileName_Figure_4_b = \"results/\""
   ]
  },
  {
   "cell_type": "markdown",
   "metadata": {},
   "source": [
    "Next plot results"
   ]
  },
  {
   "cell_type": "code",
   "execution_count": null,
   "metadata": {},
   "outputs": [],
   "source": [
    "plot_network_properties.main(    \n",
    "    fileName_single = fileName_Figure_4_a,\n",
    "    fileName_multi = fileName_Figure_4_b,\n",
    "    network_structure = \"scale_free\"\n",
    "    )"
   ]
  },
  {
   "cell_type": "markdown",
   "metadata": {},
   "source": [
    "Figure 5: Scale Free Network with Central Misinformed Agents"
   ]
  },
  {
   "cell_type": "code",
   "execution_count": null,
   "metadata": {},
   "outputs": [],
   "source": [
    "fileName_Figure_5_a = gen_single_shot.main(\n",
    "    base_params_load = \"package/constants/base_params_scale_free_CMA.json\"\n",
    "    )\n",
    "\n",
    "fileName_Figure_5_b = gen_vary_single_param.main(\n",
    "    base_params_load = \"package/constants/base_params_scale_free_CMA.json\",\n",
    "    varied_param_load= \"package/constants/varied_param_seed.json\"\n",
    "    )"
   ]
  },
  {
   "cell_type": "markdown",
   "metadata": {},
   "source": [
    "Alternatively load in data from pre-done run"
   ]
  },
  {
   "cell_type": "code",
   "execution_count": null,
   "metadata": {},
   "outputs": [],
   "source": [
    "fileName_Figure_5_a = \"results/\"\n",
    "fileName_Figure_5_b = \"results/\""
   ]
  },
  {
   "cell_type": "markdown",
   "metadata": {},
   "source": [
    "Next plot results"
   ]
  },
  {
   "cell_type": "code",
   "execution_count": null,
   "metadata": {},
   "outputs": [],
   "source": [
    "plot_network_properties.main(    \n",
    "    fileName_single = fileName_Figure_5_a,\n",
    "    fileName_multi = fileName_Figure_5_b,\n",
    "    network_structure = \"scale_free\"\n",
    "    )"
   ]
  },
  {
   "cell_type": "markdown",
   "metadata": {},
   "source": [
    "Figure 6: Contours Small World Network"
   ]
  },
  {
   "cell_type": "code",
   "execution_count": null,
   "metadata": {},
   "outputs": [],
   "source": [
    "fileName_Figure_6 = gen_two_param_vary.main(\n",
    "    base_params_load = \"constants/base_params_2D_small_world.json\",\n",
    "    varied_param_load = \"constants/variable_parameters_dict_2D.json\",\n",
    ")"
   ]
  },
  {
   "cell_type": "markdown",
   "metadata": {},
   "source": [
    "Alternatively load in data from pre-done run"
   ]
  },
  {
   "cell_type": "code",
   "execution_count": null,
   "metadata": {},
   "outputs": [],
   "source": [
    "fileName_Figure_6 = \"results/\""
   ]
  },
  {
   "cell_type": "code",
   "execution_count": null,
   "metadata": {},
   "outputs": [],
   "source": [
    "plot_two_param_vary.main(    \n",
    "    fileName = fileName_Figure_6\n",
    "    )"
   ]
  },
  {
   "cell_type": "markdown",
   "metadata": {},
   "source": [
    "Figure 7: Contours Stochastic Block Network"
   ]
  },
  {
   "cell_type": "code",
   "execution_count": null,
   "metadata": {},
   "outputs": [],
   "source": [
    "fileName_Figure_7 = gen_two_param_vary.main(\n",
    "    base_params_load = \"constants/base_params_2D_SBM.json\",\n",
    "    varied_param_load = \"constants/variable_parameters_dict_2D.json\",\n",
    ")"
   ]
  },
  {
   "cell_type": "markdown",
   "metadata": {},
   "source": [
    "Alternatively load in data from pre-done run"
   ]
  },
  {
   "cell_type": "code",
   "execution_count": null,
   "metadata": {},
   "outputs": [],
   "source": [
    "fileName_Figure_7 = \"results/\""
   ]
  },
  {
   "cell_type": "code",
   "execution_count": null,
   "metadata": {},
   "outputs": [],
   "source": [
    "plot_two_param_vary.main(    \n",
    "    fileName = fileName_Figure_7\n",
    "    )"
   ]
  },
  {
   "cell_type": "markdown",
   "metadata": {},
   "source": [
    "Figure 8: Contours Scale Free Network with Central Informed Agents"
   ]
  },
  {
   "cell_type": "code",
   "execution_count": null,
   "metadata": {},
   "outputs": [],
   "source": [
    "fileName_Figure_8 = gen_two_param_vary.main(\n",
    "    base_params_load = \"constants/base_params_2D_scale_free_CIA.json\",\n",
    "    varied_param_load = \"constants/variable_parameters_dict_2D.json\",\n",
    ")"
   ]
  },
  {
   "cell_type": "markdown",
   "metadata": {},
   "source": [
    "Alternatively load in data from pre-done run"
   ]
  },
  {
   "cell_type": "code",
   "execution_count": null,
   "metadata": {},
   "outputs": [],
   "source": [
    "fileName_Figure_8 = \"results/\""
   ]
  },
  {
   "cell_type": "code",
   "execution_count": null,
   "metadata": {},
   "outputs": [],
   "source": [
    "plot_two_param_vary.main(    \n",
    "    fileName = fileName_Figure_8\n",
    "    )"
   ]
  },
  {
   "cell_type": "markdown",
   "metadata": {},
   "source": [
    "Figure 9: Contours Scale Free Network with Central Misinformed Agents"
   ]
  },
  {
   "cell_type": "code",
   "execution_count": null,
   "metadata": {},
   "outputs": [],
   "source": [
    "fileName_Figure_9 = gen_two_param_vary.main(\n",
    "    base_params_load = \"constants/base_params_2D_scale_free_CMA.json\",\n",
    "    varied_param_load = \"constants/variable_parameters_dict_2D.json\",\n",
    ")"
   ]
  },
  {
   "cell_type": "markdown",
   "metadata": {},
   "source": [
    "Alternatively load in data from pre-done run"
   ]
  },
  {
   "cell_type": "code",
   "execution_count": null,
   "metadata": {},
   "outputs": [],
   "source": [
    "fileName_Figure_9 = \"results/\""
   ]
  },
  {
   "cell_type": "code",
   "execution_count": null,
   "metadata": {},
   "outputs": [],
   "source": [
    "plot_two_param_vary.main(    \n",
    "    fileName = fileName_Figure_9\n",
    "    )"
   ]
  },
  {
   "cell_type": "markdown",
   "metadata": {},
   "source": [
    "Sobol sensitivity analysis of model parameters"
   ]
  },
  {
   "cell_type": "markdown",
   "metadata": {},
   "source": [
    "Figure 8: Small World\n",
    "\n",
    "WARNING: As there are a large number of runs in the data used to generate this plot it will take a considerable time. In the case of the Figure [INSERT FIGURE NUMBER] we ran [INSERT RUNS SUMBER] experiments, this took approximately 1 week on a server with 40 cores. Reduce \"N_samples\" to decrease run time, must be a power of two."
   ]
  },
  {
   "cell_type": "code",
   "execution_count": null,
   "metadata": {},
   "outputs": [],
   "source": [
    "fileName_Figure_10 = gen_sensitivity_analysis.main(\n",
    "    N_samples = 1024,\n",
    "    base_params_load = \"package/constants/base_params_SA_small_world.json\",\n",
    "    varied_param_load = \"package/constants/variable_parameters_dict_SA.json\"\n",
    ")"
   ]
  },
  {
   "cell_type": "markdown",
   "metadata": {},
   "source": [
    "Alternatively load in data from pre-done run"
   ]
  },
  {
   "cell_type": "code",
   "execution_count": null,
   "metadata": {},
   "outputs": [],
   "source": [
    "fileName_Figure_10 = \"results/...\""
   ]
  },
  {
   "cell_type": "markdown",
   "metadata": {},
   "source": [
    "Next plot results"
   ]
  },
  {
   "cell_type": "code",
   "execution_count": null,
   "metadata": {},
   "outputs": [],
   "source": [
    "plot_sensitivity_analysis.main(\n",
    "    fileName = fileName_Figure_10,\n",
    "    plot_outputs = [\"price_mean\",\"price_var\",\"price_autocorr\",\"price_kurtosis\"]\n",
    "    )"
   ]
  },
  {
   "cell_type": "markdown",
   "metadata": {},
   "source": [
    "Figure 11: Stochastic Block Model"
   ]
  },
  {
   "cell_type": "code",
   "execution_count": null,
   "metadata": {},
   "outputs": [],
   "source": [
    "fileName_Figure_11 = gen_sensitivity_analysis.main(\n",
    "    N_samples = 1024,\n",
    "    base_params_load = \"package/constants/base_params_SA_SBM.json\",\n",
    "    varied_param_load = \"package/constants/variable_parameters_dict_SA.json\"\n",
    ")"
   ]
  },
  {
   "cell_type": "code",
   "execution_count": null,
   "metadata": {},
   "outputs": [],
   "source": [
    "fileName_Figure_11 = \"results/...\""
   ]
  },
  {
   "cell_type": "code",
   "execution_count": null,
   "metadata": {},
   "outputs": [],
   "source": [
    "plot_sensitivity_analysis.main(\n",
    "    fileName = fileName_Figure_11,\n",
    "    plot_outputs = [\"price_mean\",\"price_var\",\"price_autocorr\",\"price_kurtosis\"]\n",
    "    )"
   ]
  },
  {
   "cell_type": "markdown",
   "metadata": {},
   "source": [
    "Figure 12: Scale Free Network with Central Informed Agents"
   ]
  },
  {
   "cell_type": "code",
   "execution_count": null,
   "metadata": {},
   "outputs": [],
   "source": [
    "fileName_Figure_12 = gen_sensitivity_analysis.main(\n",
    "    N_samples = 1024,\n",
    "    base_params_load = \"package/constants/base_params_SA_scale_free_CIA.json\",\n",
    "    varied_param_load = \"package/constants/variable_parameters_dict_SA.json\"\n",
    ")"
   ]
  },
  {
   "cell_type": "code",
   "execution_count": null,
   "metadata": {},
   "outputs": [],
   "source": [
    "fileName_Figure_12 = \"results/...\""
   ]
  },
  {
   "cell_type": "code",
   "execution_count": null,
   "metadata": {},
   "outputs": [],
   "source": [
    "plot_sensitivity_analysis.main(\n",
    "    fileName = fileName_Figure_12,\n",
    "    plot_outputs = [\"price_mean\",\"price_var\",\"price_autocorr\",\"price_kurtosis\"]\n",
    "    )"
   ]
  },
  {
   "cell_type": "markdown",
   "metadata": {},
   "source": [
    "Figrue 13: Scale Free Network with Central Misinformed Agents"
   ]
  },
  {
   "cell_type": "code",
   "execution_count": null,
   "metadata": {},
   "outputs": [],
   "source": [
    "fileName_Figure_13 = gen_sensitivity_analysis.main(\n",
    "    N_samples = 1024,\n",
    "    base_params_load = \"package/constants/base_params_SA_scale_free_CMA.json\",\n",
    "    varied_param_load = \"package/constants/variable_parameters_dict_SA.json\"\n",
    ")"
   ]
  },
  {
   "cell_type": "code",
   "execution_count": null,
   "metadata": {},
   "outputs": [],
   "source": [
    "fileName_Figure_13 = \"results/...\""
   ]
  },
  {
   "cell_type": "code",
   "execution_count": null,
   "metadata": {},
   "outputs": [],
   "source": [
    "plot_sensitivity_analysis.main(\n",
    "    fileName = fileName_Figure_13,\n",
    "    plot_outputs = [\"price_mean\",\"price_var\",\"price_autocorr\",\"price_kurtosis\"]\n",
    "    )"
   ]
  }
 ],
 "metadata": {
  "kernelspec": {
   "display_name": "venv",
   "language": "python",
   "name": "venv"
  },
  "language_info": {
   "codemirror_mode": {
    "name": "ipython",
    "version": 3
   },
   "file_extension": ".py",
   "mimetype": "text/x-python",
   "name": "python",
   "nbconvert_exporter": "python",
   "pygments_lexer": "ipython3",
   "version": "3.11.1"
  }
 },
 "nbformat": 4,
 "nbformat_minor": 2
}
