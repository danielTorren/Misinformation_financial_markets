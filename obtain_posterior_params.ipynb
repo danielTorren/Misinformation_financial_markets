{
 "cells": [
  {
   "cell_type": "code",
   "execution_count": 43,
   "metadata": {},
   "outputs": [],
   "source": [
    "import torch\n",
    "from simulator import Market\n",
    "from sbi import analysis as analysis\n",
    "from sbi import utils as utils\n",
    "from sbi.inference import SNPE, simulate_for_sbi\n",
    "from sbi.analysis import pairplot\n",
    "from sbi.utils.user_input_checks import (\n",
    "    check_sbi_inputs,\n",
    "    process_prior,\n",
    "    process_simulator,\n",
    ")\n",
    "import numpy as np\n",
    "import yfinance as yf\n",
    "import pandas as pd\n",
    "import matplotlib.pyplot as plt\n",
    "import statsmodels.api as sm\n",
    "import statistics as stats\n"
   ]
  },
  {
   "cell_type": "code",
   "execution_count": 44,
   "metadata": {},
   "outputs": [],
   "source": [
    "#pick the true parameters\n",
    "param_1 = 0.7 #sigma_eta\n",
    "param_2 = 0.8 #beta\n",
    "#lower and upper bounds for the prior\n",
    "param_1_bounds = [0.1, 2]\n",
    "param_2_bounds = [0.1, 2]\n",
    "param_1_name = \"theta_sigma\"\n",
    "param_2_name = \"gamma_sigma\""
   ]
  },
  {
   "cell_type": "code",
   "execution_count": 45,
   "metadata": {},
   "outputs": [],
   "source": [
    "num_dim = 2\n",
    "#prior = utils.BoxUniform(low=-2 * torch.ones(num_dim), high=2 * torch.ones(num_dim))\n",
    "# make an alternative prior with uniform distribution different for each parameter\n",
    "prior = utils.BoxUniform(low=torch.tensor([param_1_bounds[0], param_2_bounds[0]]),\n",
    "                          high=torch.tensor([param_1_bounds[1], param_2_bounds[1]]))\n",
    "\n",
    "def simulator_base(prior_sample):\n",
    "    #access the first prior value from the tensor\n",
    "    #create a dcitionary with the prior sample\n",
    "    params = {param_1_name: float(prior_sample[0]), \n",
    "              param_2_name: float(prior_sample[1])}\n",
    "    #run the market simulation\n",
    "    market = Market(params)\n",
    "    while market.step_count < market.total_steps:\n",
    "        market.next_step()\n",
    "    #compute the financial market return\n",
    "    market_return = np.asarray(market.history_p_t)[1:]/np.asarray(market.history_p_t)[:-1] - 1\n",
    "    # compute the variance, skewness and kurtosis of the market return\n",
    "    variance = np.var(market_return)\n",
    "    skewness = np.mean(((market_return - np.mean(market_return)) / np.std(market_return)) ** 3)\n",
    "    kurtosis = np.mean(((market_return - np.mean(market_return)) / np.std(market_return)) ** 4)\n",
    "    \n",
    "\n",
    "    return torch.tensor([skewness, kurtosis])\n",
    "\n",
    "# def simulator_base(prior_sample):\n",
    "#     x1 = np.random.normal(0, prior_sample[0], 1000)\n",
    "#     x2 = np.random.normal(0, prior_sample[1], 1000)\n",
    "#     x3 = np.random.normal(0, prior_sample[2], 1000)\n",
    "#     x4 = np.random.normal(0, prior_sample[3], 1000)\n",
    "\n",
    "#     y = 0.5 + 2 * x1 + 3 * x2 + 4 * x3 + 5 * x4 + np.random.normal(0, 1, 1000)\n",
    "\n",
    "#     #moments\n",
    "#     m1 = np.mean(y)\n",
    "#     m2 = np.var(y)\n",
    "#     m3 = np.mean((y - m1) ** 3) / (m2 ** (3/2))\n",
    "#     m4 = np.mean((y - m1) ** 4) / (m2 ** 2) - 3\n",
    "\n",
    "#     return torch.tensor([m1, m2, m3, m4])\n",
    "\n",
    "\n",
    "def simulator_returns(prior_sample):\n",
    "     #access the first prior value from the tensor\n",
    "    #create a dcitionary with the prior sample\n",
    "    params = {param_1_name: float(prior_sample[0]), \n",
    "              param_2_name: float(prior_sample[1])}\n",
    "    #run the market simulation\n",
    "    market = Market(params)\n",
    "    while market.step_count < market.total_steps:\n",
    "        market.next_step()\n",
    "    #compute the financial market return\n",
    "    market_return = np.asarray(market.history_p_t)[1:]/np.asarray(market.history_p_t)[:-1] - 1\n",
    "    return torch.tensor(market_return)\n"
   ]
  },
  {
   "cell_type": "code",
   "execution_count": 46,
   "metadata": {},
   "outputs": [],
   "source": [
    "# Check prior, return PyTorch prior.\n",
    "prior, num_parameters, prior_returns_numpy = process_prior(prior)\n",
    "\n",
    "# Check simulator, returns PyTorch simulator able to simulate batches.\n",
    "simulator = process_simulator(simulator_base, prior, prior_returns_numpy)\n",
    "\n",
    "# Consistency check after making ready for sbi.\n",
    "check_sbi_inputs(simulator, prior)"
   ]
  },
  {
   "cell_type": "code",
   "execution_count": 47,
   "metadata": {},
   "outputs": [],
   "source": [
    "# Then, we instantiate the inference object\n",
    "inference = SNPE(prior=prior)"
   ]
  },
  {
   "cell_type": "code",
   "execution_count": 48,
   "metadata": {},
   "outputs": [
    {
     "data": {
      "application/vnd.jupyter.widget-view+json": {
       "model_id": "6e9db1626fd745f986ca118521ab6b6e",
       "version_major": 2,
       "version_minor": 0
      },
      "text/plain": [
       "Running 1000 simulations.:   0%|          | 0/1000 [00:00<?, ?it/s]"
      ]
     },
     "metadata": {},
     "output_type": "display_data"
    }
   ],
   "source": [
    "theta, x = simulate_for_sbi(simulator, proposal=prior, num_simulations=1000)"
   ]
  },
  {
   "cell_type": "code",
   "execution_count": 49,
   "metadata": {},
   "outputs": [
    {
     "name": "stdout",
     "output_type": "stream",
     "text": [
      " Neural network successfully converged after 38 epochs."
     ]
    }
   ],
   "source": [
    "inference = inference.append_simulations(theta, x)\n",
    "density_estimator = inference.train(force_first_round_loss=True)"
   ]
  },
  {
   "cell_type": "markdown",
   "metadata": {},
   "source": []
  },
  {
   "cell_type": "code",
   "execution_count": 29,
   "metadata": {},
   "outputs": [],
   "source": [
    "posterior = inference.build_posterior(density_estimator)"
   ]
  },
  {
   "cell_type": "code",
   "execution_count": 40,
   "metadata": {},
   "outputs": [],
   "source": [
    "# save the posterior model to a file\n",
    "torch.save(posterior, 'posterior_model_theta_gamma.pt')"
   ]
  },
  {
   "cell_type": "code",
   "execution_count": 41,
   "metadata": {},
   "outputs": [],
   "source": [
    "#load the posterior model from a file\n",
    "posterior1 = torch.load('posterior_model_theta_gamma.pt')"
   ]
  },
  {
   "cell_type": "code",
   "execution_count": 50,
   "metadata": {},
   "outputs": [],
   "source": [
    "observation = simulator_base(torch.tensor([param_1, param_2]))"
   ]
  },
  {
   "cell_type": "code",
   "execution_count": 51,
   "metadata": {},
   "outputs": [
    {
     "data": {
      "application/vnd.jupyter.widget-view+json": {
       "model_id": "4788f67183ae4f299f8e27f2cbbf40b0",
       "version_major": 2,
       "version_minor": 0
      },
      "text/plain": [
       "Drawing 100000 posterior samples:   0%|          | 0/100000 [00:00<?, ?it/s]"
      ]
     },
     "metadata": {},
     "output_type": "display_data"
    },
    {
     "data": {
      "image/png": "[encoded data removed]",
      "text/plain": [
       "<Figure size 500x500 with 4 Axes>"
      ]
     },
     "metadata": {},
     "output_type": "display_data"
    }
   ],
   "source": [
    "posterior_samples = posterior.sample((100000,), x=observation)\n",
    "\n",
    "# plot posterior samples\n",
    "fig, ax = pairplot(\n",
    "    posterior_samples, limits=[param_1_bounds, param_2_bounds], figsize=(5, 5),\n",
    "    points=[np.array([param_1, param_2])],\n",
    "                      points_colors='r', labels=[r'$\\sigma_{\\eta}$', r'$\\sigma_{\\nu}$']\n",
    ")\n",
    "plt.savefig('Figures/posterior_samples_synthetic.png')"
   ]
  },
  {
   "cell_type": "code",
   "execution_count": 52,
   "metadata": {},
   "outputs": [
    {
     "data": {
      "text/html": [
       "<div>\n",
       "<style scoped>\n",
       "    .dataframe tbody tr th:only-of-type {\n",
       "        vertical-align: middle;\n",
       "    }\n",
       "\n",
       "    .dataframe tbody tr th {\n",
       "        vertical-align: top;\n",
       "    }\n",
       "\n",
       "    .dataframe thead th {\n",
       "        text-align: right;\n",
       "    }\n",
       "</style>\n",
       "<table border=\"1\" class=\"dataframe\">\n",
       "  <thead>\n",
       "    <tr style=\"text-align: right;\">\n",
       "      <th></th>\n",
       "      <th>0</th>\n",
       "      <th>1</th>\n",
       "    </tr>\n",
       "  </thead>\n",
       "  <tbody>\n",
       "    <tr>\n",
       "      <th>count</th>\n",
       "      <td>100000.000000</td>\n",
       "      <td>100000.000000</td>\n",
       "    </tr>\n",
       "    <tr>\n",
       "      <th>mean</th>\n",
       "      <td>1.036044</td>\n",
       "      <td>0.598895</td>\n",
       "    </tr>\n",
       "    <tr>\n",
       "      <th>std</th>\n",
       "      <td>0.517142</td>\n",
       "      <td>0.252237</td>\n",
       "    </tr>\n",
       "    <tr>\n",
       "      <th>min</th>\n",
       "      <td>0.100001</td>\n",
       "      <td>0.100011</td>\n",
       "    </tr>\n",
       "    <tr>\n",
       "      <th>25%</th>\n",
       "      <td>0.608720</td>\n",
       "      <td>0.413243</td>\n",
       "    </tr>\n",
       "    <tr>\n",
       "      <th>50%</th>\n",
       "      <td>1.028824</td>\n",
       "      <td>0.585161</td>\n",
       "    </tr>\n",
       "    <tr>\n",
       "      <th>75%</th>\n",
       "      <td>1.460136</td>\n",
       "      <td>0.765966</td>\n",
       "    </tr>\n",
       "    <tr>\n",
       "      <th>max</th>\n",
       "      <td>1.999948</td>\n",
       "      <td>1.918385</td>\n",
       "    </tr>\n",
       "  </tbody>\n",
       "</table>\n",
       "</div>"
      ],
      "text/plain": [
       "                   0              1\n",
       "count  100000.000000  100000.000000\n",
       "mean        1.036044       0.598895\n",
       "std         0.517142       0.252237\n",
       "min         0.100001       0.100011\n",
       "25%         0.608720       0.413243\n",
       "50%         1.028824       0.585161\n",
       "75%         1.460136       0.765966\n",
       "max         1.999948       1.918385"
      ]
     },
     "execution_count": 52,
     "metadata": {},
     "output_type": "execute_result"
    }
   ],
   "source": [
    "#get the mean, mode, 5% and 95% quantiles of the posterior by leveraging pandas\n",
    "posterior_samples_df = pd.DataFrame(posterior_samples)\n",
    "posterior_samples_df.describe()"
   ]
  },
  {
   "cell_type": "code",
   "execution_count": 53,
   "metadata": {},
   "outputs": [
    {
     "name": "stdout",
     "output_type": "stream",
     "text": [
      "Skewness of the true data:  0.046160247277891336\n",
      "Kurtosis of the true data:  3.679225580610125\n",
      "Skewness of the implied data:  -0.11202610932656787\n",
      "Kurtosis of the implied data:  3.605139121751941\n"
     ]
    }
   ],
   "source": [
    "#implied_data = simulator_returns(torch.tensor([theta_sigma, gamma_sigma, epsilon_sigma, ar_1_coefficient])).numpy()\n",
    "implied_data = simulator_returns(torch.tensor(np.mean(posterior_samples.numpy(), axis=0))).numpy()\n",
    "actual_data = simulator_returns(torch.tensor([param_1, param_2])).numpy()\n",
    "#compute skew and kurtosis of the implied data\n",
    "skew = np.mean(((implied_data - np.mean(implied_data)) / np.std(implied_data)) ** 3)\n",
    "kurt = np.mean(((implied_data - np.mean(implied_data)) / np.std(implied_data)) ** 4)\n",
    "\n",
    "#compare with skew and kurtosis of the true data\n",
    "true_data_skew = observation.numpy().flatten()[0]\n",
    "true_data_kurt = observation.numpy().flatten()[1]\n",
    "\n",
    "print(\"Skewness of the true data: \", true_data_skew)\n",
    "print(\"Kurtosis of the true data: \", true_data_kurt)\n",
    "print(\"Skewness of the implied data: \", skew)\n",
    "print(\"Kurtosis of the implied data: \", kurt)"
   ]
  },
  {
   "cell_type": "code",
   "execution_count": 54,
   "metadata": {},
   "outputs": [
    {
     "data": {
      "text/plain": [
       "<matplotlib.legend.Legend at 0x2a13182f0>"
      ]
     },
     "execution_count": 54,
     "metadata": {},
     "output_type": "execute_result"
    },
    {
     "data": {
      "image/png": "[encoded data removed]",
      "text/plain": [
       "<Figure size 640x480 with 1 Axes>"
      ]
     },
     "metadata": {},
     "output_type": "display_data"
    }
   ],
   "source": [
    "#plot histogram of the true data and the implied data\n",
    "plt.hist(actual_data, bins=100, alpha=0.5, label=\"True data\", density=True)\n",
    "plt.hist(implied_data, bins=100, alpha=0.5, label=\"Implied data\", density=True)\n",
    "plt.legend()"
   ]
  },
  {
   "cell_type": "code",
   "execution_count": 55,
   "metadata": {},
   "outputs": [
    {
     "name": "stderr",
     "output_type": "stream",
     "text": [
      "[*********************100%%**********************]  1 of 1 completed\n"
     ]
    }
   ],
   "source": [
    "#now we do the estimation on real data\n",
    "\n",
    "# get the data for the SP500 index on a daily basis\n",
    "data = yf.download('TSLA', start='2023-09-01', end='2024-10-01')"
   ]
  },
  {
   "cell_type": "code",
   "execution_count": 56,
   "metadata": {},
   "outputs": [
    {
     "data": {
      "text/plain": [
       "(271, 6)"
      ]
     },
     "execution_count": 56,
     "metadata": {},
     "output_type": "execute_result"
    }
   ],
   "source": [
    "data.shape"
   ]
  },
  {
   "cell_type": "code",
   "execution_count": 57,
   "metadata": {},
   "outputs": [
    {
     "data": {
      "text/plain": [
       "tensor([0.2563, 5.5429], dtype=torch.float64)"
      ]
     },
     "execution_count": 57,
     "metadata": {},
     "output_type": "execute_result"
    }
   ],
   "source": [
    "#compute returns \n",
    "data['Return'] = data['Adj Close'].pct_change()\n",
    "\n",
    "#compute the variance, skewness and kurtosis of the market return\n",
    "variance = np.var(data['Return'])\n",
    "skewness = np.mean(((data['Return'] - np.mean(data['Return'])) / np.std(data['Return'])) ** 3)\n",
    "kurtosis = np.mean(((data['Return'] - np.mean(data['Return'])) / np.std(data['Return'])) ** 4)\n",
    "\n",
    "real_data = torch.tensor([ skewness, kurtosis])\n",
    "real_data \n"
   ]
  },
  {
   "cell_type": "markdown",
   "metadata": {},
   "source": []
  },
  {
   "cell_type": "code",
   "execution_count": 58,
   "metadata": {},
   "outputs": [
    {
     "data": {
      "application/vnd.jupyter.widget-view+json": {
       "model_id": "d84a3c642b804e7c8c52d1b1260dd22a",
       "version_major": 2,
       "version_minor": 0
      },
      "text/plain": [
       "Drawing 100000 posterior samples:   0%|          | 0/100000 [00:00<?, ?it/s]"
      ]
     },
     "metadata": {},
     "output_type": "display_data"
    },
    {
     "name": "stdout",
     "output_type": "stream",
     "text": [
      "[1.0766082 1.3318827]\n"
     ]
    }
   ],
   "source": [
    "samples = posterior.sample((100000,), x=real_data)\n",
    "# log_probability = posterior.log_prob(samples, x=real_observation)\n",
    "# _ = analysis.pairplot(samples, limits=[[0.01, 10], [0.01, 10], [0.01, 0.99], [0.01, 0.5],[0.01, 0.5]], figsize=(6, 6))\n",
    "print(np.median(samples.numpy(), axis=0))"
   ]
  },
  {
   "cell_type": "code",
   "execution_count": 59,
   "metadata": {},
   "outputs": [
    {
     "data": {
      "text/html": [
       "<div>\n",
       "<style scoped>\n",
       "    .dataframe tbody tr th:only-of-type {\n",
       "        vertical-align: middle;\n",
       "    }\n",
       "\n",
       "    .dataframe tbody tr th {\n",
       "        vertical-align: top;\n",
       "    }\n",
       "\n",
       "    .dataframe thead th {\n",
       "        text-align: right;\n",
       "    }\n",
       "</style>\n",
       "<table border=\"1\" class=\"dataframe\">\n",
       "  <thead>\n",
       "    <tr style=\"text-align: right;\">\n",
       "      <th></th>\n",
       "      <th>0</th>\n",
       "      <th>1</th>\n",
       "    </tr>\n",
       "  </thead>\n",
       "  <tbody>\n",
       "    <tr>\n",
       "      <th>count</th>\n",
       "      <td>100000.000000</td>\n",
       "      <td>100000.000000</td>\n",
       "    </tr>\n",
       "    <tr>\n",
       "      <th>mean</th>\n",
       "      <td>1.070090</td>\n",
       "      <td>1.309818</td>\n",
       "    </tr>\n",
       "    <tr>\n",
       "      <th>std</th>\n",
       "      <td>0.521200</td>\n",
       "      <td>0.372129</td>\n",
       "    </tr>\n",
       "    <tr>\n",
       "      <th>min</th>\n",
       "      <td>0.100036</td>\n",
       "      <td>0.100435</td>\n",
       "    </tr>\n",
       "    <tr>\n",
       "      <th>25%</th>\n",
       "      <td>0.640403</td>\n",
       "      <td>1.056880</td>\n",
       "    </tr>\n",
       "    <tr>\n",
       "      <th>50%</th>\n",
       "      <td>1.076608</td>\n",
       "      <td>1.331883</td>\n",
       "    </tr>\n",
       "    <tr>\n",
       "      <th>75%</th>\n",
       "      <td>1.503616</td>\n",
       "      <td>1.592861</td>\n",
       "    </tr>\n",
       "    <tr>\n",
       "      <th>max</th>\n",
       "      <td>1.999941</td>\n",
       "      <td>1.999980</td>\n",
       "    </tr>\n",
       "  </tbody>\n",
       "</table>\n",
       "</div>"
      ],
      "text/plain": [
       "                   0              1\n",
       "count  100000.000000  100000.000000\n",
       "mean        1.070090       1.309818\n",
       "std         0.521200       0.372129\n",
       "min         0.100036       0.100435\n",
       "25%         0.640403       1.056880\n",
       "50%         1.076608       1.331883\n",
       "75%         1.503616       1.592861\n",
       "max         1.999941       1.999980"
      ]
     },
     "execution_count": 59,
     "metadata": {},
     "output_type": "execute_result"
    }
   ],
   "source": [
    "pd.DataFrame(samples).describe()"
   ]
  },
  {
   "cell_type": "code",
   "execution_count": 60,
   "metadata": {},
   "outputs": [
    {
     "data": {
      "image/png": "[encoded data removed]",
      "text/plain": [
       "<Figure size 500x500 with 4 Axes>"
      ]
     },
     "metadata": {},
     "output_type": "display_data"
    }
   ],
   "source": [
    "# plot posterior samples\n",
    "fig, ax = pairplot(\n",
    "    samples, limits=[param_1_bounds, param_2_bounds], figsize=(5, 5),\n",
    "    #points=[np.median(samples.numpy(), axis=0)],\n",
    "                      #points_colors='k',\n",
    "    labels=[r'$\\sigma_{\\eta}$', r'$\\sigma_{\\nu}$']\n",
    ")\n",
    "# Save the figure\n",
    "plt.savefig('Figures/posterior_samples.png')"
   ]
  },
  {
   "cell_type": "code",
   "execution_count": 41,
   "metadata": {},
   "outputs": [
    {
     "name": "stdout",
     "output_type": "stream",
     "text": [
      "Skewness of the true data:  tensor(0.2563, dtype=torch.float64)\n",
      "Kurtosis of the true data:  tensor(5.5429, dtype=torch.float64)\n",
      "Skewness of the implied data:  0.09022911649107371\n",
      "Kurtosis of the implied data:  5.569257891770996\n"
     ]
    }
   ],
   "source": [
    "#compute simulated data for 1000 runs, with those parameters and compare with the real data\n",
    "implied_data = [simulator_base(np.mean(samples.numpy(), axis=0)) for _ in range(10)]\n",
    "sim_skew, sim_kurt = np.mean(implied_data, axis=0)\n",
    "\n",
    "\n",
    "print(\"Skewness of the true data: \", real_data[0])\n",
    "print(\"Kurtosis of the true data: \", real_data[1])\n",
    "print(\"Skewness of the implied data: \", sim_skew)\n",
    "print(\"Kurtosis of the implied data: \", sim_kurt)\n",
    "\n"
   ]
  },
  {
   "cell_type": "code",
   "execution_count": 42,
   "metadata": {},
   "outputs": [
    {
     "data": {
      "text/plain": [
       "<matplotlib.legend.Legend at 0x2a1357470>"
      ]
     },
     "execution_count": 42,
     "metadata": {},
     "output_type": "execute_result"
    },
    {
     "data": {
      "image/png": "[encoded data removed]",
      "text/plain": [
       "<Figure size 640x480 with 1 Axes>"
      ]
     },
     "metadata": {},
     "output_type": "display_data"
    }
   ],
   "source": [
    "#plot histogram of the real data and the simulated data\n",
    "simulated_returns = np.array(simulator_returns(np.median(samples.numpy(), axis=0)))\n",
    "normalized_simulated_data = (simulated_returns - np.mean(simulated_returns)) / np.std(simulated_returns)\n",
    "normalized_real_data = (data['Return'] - np.mean(data['Return'])) / np.std(data['Return'])\n",
    "fig, ax = plt.subplots()\n",
    "ax.hist(normalized_real_data, bins=30, alpha=0.9, label='Real data')\n",
    "ax.hist(normalized_simulated_data, bins=30, alpha=0.3, label='Simulated data')\n",
    "#overly a normal distribution with the same mean and variance as the real data\n",
    "mu = np.mean(normalized_real_data)\n",
    "sigma = np.std(normalized_real_data)\n",
    "x = np.linspace(mu - 3*sigma, mu + 3*sigma, 100)\n",
    "ax.legend()"
   ]
  },
  {
   "cell_type": "code",
   "execution_count": 24,
   "metadata": {},
   "outputs": [
    {
     "name": "stdout",
     "output_type": "stream",
     "text": [
      "[ 1.          0.16437315  0.04083586  0.00583699 -0.01492372 -0.01985047\n",
      " -0.01048912  0.0036774  -0.02607271 -0.02867493  0.00258862]\n",
      "[ 1.          0.03154321 -0.0036213   0.14212478 -0.03545402 -0.02389082\n",
      "  0.00674159 -0.00143836 -0.02815544  0.03523902  0.04053876]\n"
     ]
    },
    {
     "data": {
      "text/plain": [
       "[<matplotlib.lines.Line2D at 0x2a3f7a870>]"
      ]
     },
     "execution_count": 24,
     "metadata": {},
     "output_type": "execute_result"
    },
    {
     "data": {
      "image/png": "[encoded data removed]",
      "text/plain": [
       "<Figure size 640x480 with 1 Axes>"
      ]
     },
     "metadata": {},
     "output_type": "display_data"
    }
   ],
   "source": [
    "#plot the variance of simulated returns\n",
    "#print the autocorrelation of the simulated returns squared\n",
    "print(sm.tsa.acf(simulated_returns**2, nlags=10))\n",
    "#print the autocorrelation of the real returns squared\n",
    "print(sm.tsa.acf(data['Return'].dropna()**2, nlags=10))\n",
    "#plt.plot(data['Return']**2)\n",
    "plt.plot(sm.tsa.acf(data['Return'].dropna()**2, nlags=10))\n",
    "plt.plot(sm.tsa.acf(simulated_returns**2, nlags=10))"
   ]
  },
  {
   "cell_type": "code",
   "execution_count": 25,
   "metadata": {},
   "outputs": [
    {
     "name": "stdout",
     "output_type": "stream",
     "text": [
      "unnorm skew:  -0.03392126729415411\n",
      "unnorm kurt:  4.56860834159054\n",
      "norm skew:  -0.03392126729415411\n",
      "norm kurt:  4.5686083415905445\n"
     ]
    }
   ],
   "source": [
    "# check the skewness and kurtosis of the simulated data with and without normalizing\n",
    "skew_unnormalized = np.mean(((simulated_returns - np.mean(simulated_returns)) / np.std(simulated_returns)) ** 3)\n",
    "kurt_unnormalized = np.mean(((simulated_returns - np.mean(simulated_returns)) / np.std(simulated_returns)) ** 4)\n",
    "skew_normalized = np.mean(((normalized_simulated_data - np.mean(normalized_simulated_data)) / np.std(normalized_simulated_data)) ** 3)\n",
    "kurt_normalized = np.mean(((normalized_simulated_data - np.mean(normalized_simulated_data)) / np.std(normalized_simulated_data)) ** 4)\n",
    "\n",
    "print(\"unnorm skew: \", skew_unnormalized)\n",
    "print(\"unnorm kurt: \", kurt_unnormalized)\n",
    "print(\"norm skew: \", skew_normalized)\n",
    "print(\"norm kurt: \", kurt_normalized)"
   ]
  },
  {
   "cell_type": "code",
   "execution_count": 26,
   "metadata": {},
   "outputs": [
    {
     "data": {
      "text/plain": [
       "array([-8.73147878e-04,  1.77701318e-03, -8.48653536e-04, ...,\n",
       "        8.42739648e-05, -2.42621938e-04,  6.30450371e-04])"
      ]
     },
     "execution_count": 26,
     "metadata": {},
     "output_type": "execute_result"
    }
   ],
   "source": [
    "simulated_returns"
   ]
  },
  {
   "cell_type": "code",
   "execution_count": 27,
   "metadata": {},
   "outputs": [
    {
     "data": {
      "text/plain": [
       "(0.0020575146869175054,\n",
       " -0.002344378362986288,\n",
       " 4.453660683418139,\n",
       " -3.6324360167761793)"
      ]
     },
     "execution_count": 27,
     "metadata": {},
     "output_type": "execute_result"
    }
   ],
   "source": [
    "simulated_returns.max(), simulated_returns.min(), normalized_real_data.max(), normalized_real_data.min()"
   ]
  }
 ],
 "metadata": {
  "kernelspec": {
   "display_name": "my_venv",
   "language": "python",
   "name": "python3"
  },
  "language_info": {
   "codemirror_mode": {
    "name": "ipython",
    "version": 3
   },
   "file_extension": ".py",
   "mimetype": "text/x-python",
   "name": "python",
   "nbconvert_exporter": "python",
   "pygments_lexer": "ipython3",
   "version": "3.12.0"
  }
 },
 "nbformat": 4,
 "nbformat_minor": 2
}
