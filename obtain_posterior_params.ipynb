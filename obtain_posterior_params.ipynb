{
 "cells": [
  {
   "cell_type": "code",
   "execution_count": 2,
   "metadata": {},
   "outputs": [],
   "source": [
    "import torch\n",
    "from simulator import Market\n",
    "from sbi import analysis as analysis\n",
    "from sbi import utils as utils\n",
    "from sbi.inference import SNPE, simulate_for_sbi\n",
    "from sbi.analysis import pairplot\n",
    "from sbi.utils.user_input_checks import (\n",
    "    check_sbi_inputs,\n",
    "    process_prior,\n",
    "    process_simulator,\n",
    ")\n",
    "import numpy as np\n",
    "import yfinance as yf\n",
    "import pandas as pd\n",
    "import matplotlib.pyplot as plt\n",
    "import statsmodels.api as sm\n",
    "import statistics as stats\n",
    "import json"
   ]
  },
  {
   "cell_type": "code",
   "execution_count": 164,
   "metadata": {},
   "outputs": [],
   "source": [
    "#pick the true parameters\n",
    "param_1 = 0.7 #sigma_eta\n",
    "param_2 = 0.7 #beta\n",
    "#lower and upper bounds for the prior\n",
    "param_1_bounds = [0.1, 2]\n",
    "param_2_bounds = [0.1, 2]\n",
    "param_1_name = \"theta_sigma\"\n",
    "param_2_name = \"gamma_sigma\""
   ]
  },
  {
   "cell_type": "code",
   "execution_count": 3,
   "metadata": {},
   "outputs": [],
   "source": [
    "#Define the simulators\n",
    "def simulator_base(prior_sample):\n",
    "    #access the first prior value from the tensor\n",
    "    #create a dcitionary with the prior sample\n",
    "    params = {param_1_name: float(prior_sample[0]), \n",
    "              param_2_name: float(prior_sample[1])}\n",
    "    #run the market simulation\n",
    "    market = Market(params)\n",
    "    while market.step_count < market.total_steps:\n",
    "        market.next_step()\n",
    "    #compute the financial market return\n",
    "    market_return = np.asarray(market.history_p_t)[1:]/np.asarray(market.history_p_t)[:-1] - 1\n",
    "    # compute the variance, skewness and kurtosis of the market return\n",
    "    variance = np.var(market_return)\n",
    "    skewness = np.mean(((market_return - np.mean(market_return)) / np.std(market_return)) ** 3)\n",
    "    kurtosis = np.mean(((market_return - np.mean(market_return)) / np.std(market_return)) ** 4)\n",
    "    return torch.tensor([skewness, kurtosis])\n",
    "\n",
    "def simulator_returns(prior_sample):\n",
    "     #access the first prior value from the tensor\n",
    "    #create a dcitionary with the prior sample\n",
    "    params = {param_1_name: float(prior_sample[0]), \n",
    "              param_2_name: float(prior_sample[1])}\n",
    "    #run the market simulation\n",
    "    market = Market(params)\n",
    "    while market.step_count < market.total_steps:\n",
    "        market.next_step()\n",
    "    #compute the financial market return\n",
    "    market_return = np.asarray(market.history_p_t)[1:]/np.asarray(market.history_p_t)[:-1] - 1\n",
    "    return torch.tensor(market_return)"
   ]
  },
  {
   "cell_type": "code",
   "execution_count": 4,
   "metadata": {},
   "outputs": [],
   "source": [
    "#load the saved posterior\n",
    "posterior1 = torch.load('posterior_model_theta_gamma.pt')"
   ]
  },
  {
   "cell_type": "markdown",
   "metadata": {},
   "source": [
    "# Calibration on synthetic data"
   ]
  },
  {
   "cell_type": "code",
   "execution_count": 322,
   "metadata": {},
   "outputs": [],
   "source": [
    "observation = simulator_base(torch.tensor([param_1, param_2]))"
   ]
  },
  {
   "cell_type": "code",
   "execution_count": 337,
   "metadata": {},
   "outputs": [
    {
     "data": {
      "application/vnd.jupyter.widget-view+json": {
       "model_id": "2366c0511ffc42abb70674f02cc23dc0",
       "version_major": 2,
       "version_minor": 0
      },
      "text/plain": [
       "Drawing 100000 posterior samples:   0%|          | 0/100000 [00:00<?, ?it/s]"
      ]
     },
     "metadata": {},
     "output_type": "display_data"
    },
    {
     "data": {
      "image/png": "[encoded data removed]",
      "text/plain": [
       "<Figure size 500x500 with 4 Axes>"
      ]
     },
     "metadata": {},
     "output_type": "display_data"
    }
   ],
   "source": [
    "posterior_samples = posterior1.sample((100000,), x=observation)\n",
    "\n",
    "# plot posterior samples\n",
    "fig, ax = pairplot(\n",
    "    posterior_samples, limits=[param_1_bounds, param_2_bounds], figsize=(5, 5),\n",
    "    points=[np.array([param_1, param_2])],\n",
    "                      points_colors='r', labels=[r'$\\sigma_{\\eta}$', r'$\\sigma_{\\nu}$']\n",
    ")\n",
    "plt.savefig('Figures/posterior_samples_synthetic.png')"
   ]
  },
  {
   "cell_type": "code",
   "execution_count": 332,
   "metadata": {},
   "outputs": [
    {
     "name": "stdout",
     "output_type": "stream",
     "text": [
      "Skewness of the true data:  0.1359968036157783\n",
      "Kurtosis of the true data:  3.9525104799314827\n",
      "Skewness of the implied data:  0.17271136520230174\n",
      "Kurtosis of the implied data:  3.693051252107779\n"
     ]
    }
   ],
   "source": [
    "#implied_data = simulator_returns(torch.tensor([theta_sigma, gamma_sigma, epsilon_sigma, ar_1_coefficient])).numpy()\n",
    "implied_data = simulator_returns(torch.tensor(np.median(posterior_samples.numpy(), axis=0))).numpy()\n",
    "actual_data = simulator_returns(torch.tensor([param_1, param_2])).numpy()\n",
    "#compute skew and kurtosis of the implied data\n",
    "skew = np.mean(((implied_data - np.mean(implied_data)) / np.std(implied_data)) ** 3)\n",
    "kurt = np.mean(((implied_data - np.mean(implied_data)) / np.std(implied_data)) ** 4)\n",
    "\n",
    "#compare with skew and kurtosis of the true data\n",
    "true_data_skew = observation.numpy().flatten()[0]\n",
    "true_data_kurt = observation.numpy().flatten()[1]\n",
    "\n",
    "print(\"Skewness of the true data: \", true_data_skew)\n",
    "print(\"Kurtosis of the true data: \", true_data_kurt)\n",
    "print(\"Skewness of the implied data: \", skew)\n",
    "print(\"Kurtosis of the implied data: \", kurt)"
   ]
  },
  {
   "cell_type": "markdown",
   "metadata": {},
   "source": [
    "# Calibration on real data"
   ]
  },
  {
   "cell_type": "code",
   "execution_count": 5,
   "metadata": {},
   "outputs": [
    {
     "name": "stderr",
     "output_type": "stream",
     "text": [
      "[*********************100%%**********************]  1 of 1 completed\n"
     ]
    }
   ],
   "source": [
    "# get the data for TESLA on a daily basis\n",
    "data = yf.download('TSLA', start='2023-09-01', end='2024-10-01')"
   ]
  },
  {
   "cell_type": "code",
   "execution_count": 6,
   "metadata": {},
   "outputs": [
    {
     "data": {
      "text/plain": [
       "tensor([0.2563, 5.5429], dtype=torch.float64)"
      ]
     },
     "execution_count": 6,
     "metadata": {},
     "output_type": "execute_result"
    }
   ],
   "source": [
    "#compute returns \n",
    "data['Return'] = data['Close'].pct_change()\n",
    "\n",
    "#compute the variance, skewness and kurtosis of the market return\n",
    "variance = np.var(data['Return'])\n",
    "skewness = np.mean(((data['Return'] - np.mean(data['Return'])) / np.std(data['Return'])) ** 3)\n",
    "kurtosis = np.mean(((data['Return'] - np.mean(data['Return'])) / np.std(data['Return'])) ** 4)\n",
    "\n",
    "real_data = torch.tensor([ skewness, kurtosis])\n",
    "real_data \n"
   ]
  },
  {
   "cell_type": "code",
   "execution_count": 7,
   "metadata": {},
   "outputs": [
    {
     "data": {
      "application/vnd.jupyter.widget-view+json": {
       "model_id": "6845377f45134569bb24d277005c21a4",
       "version_major": 2,
       "version_minor": 0
      },
      "text/plain": [
       "Drawing 100000 posterior samples:   0%|          | 0/100000 [00:00<?, ?it/s]"
      ]
     },
     "metadata": {},
     "output_type": "display_data"
    },
    {
     "name": "stdout",
     "output_type": "stream",
     "text": [
      "[0.8388765 1.3566972]\n"
     ]
    }
   ],
   "source": [
    "samples = posterior1.sample((100000,), x=real_data)\n",
    "# log_probability = posterior.log_prob(samples, x=real_observation)\n",
    "# _ = analysis.pairplot(samples, limits=[[0.01, 10], [0.01, 10], [0.01, 0.99], [0.01, 0.5],[0.01, 0.5]], figsize=(6, 6))\n",
    "print(np.median(samples.numpy(), axis=0))"
   ]
  },
  {
   "cell_type": "code",
   "execution_count": 352,
   "metadata": {},
   "outputs": [],
   "source": [
    "#save the median values to the .json file that we will use for the numerical simulation\n",
    "with open('constants/base_params_small_world.json') as f:\n",
    "    data = json.load(f)\n",
    "    data['theta_sigma'] = np.median(samples.numpy(), axis=0)[0]\n",
    "    data['gamma_sigma'] = np.median(samples.numpy(), axis=0)[1]\n",
    "    #change the type from float32 to float\n",
    "    data['theta_sigma'] = round(float(data['theta_sigma']),2)\n",
    "    data['gamma_sigma'] = round(float(data['gamma_sigma']),2)\n",
    "    f.close()\n",
    "with open('constants/base_params_small_world.json', 'w') as f:\n",
    "    json.dump(data, f)\n",
    "    f.close()"
   ]
  },
  {
   "cell_type": "code",
   "execution_count": 353,
   "metadata": {},
   "outputs": [],
   "source": [
    "#Do the same for the other models\n",
    "#save the median values to the .json file that we will use for the numerical simulation\n",
    "with open('constants/base_params_SBM.json') as f:\n",
    "    data = json.load(f)\n",
    "    data['theta_sigma'] = np.median(samples.numpy(), axis=0)[0]\n",
    "    data['gamma_sigma'] = np.median(samples.numpy(), axis=0)[1]\n",
    "    #change the type from float32 to float\n",
    "    data['theta_sigma'] = round(float(data['theta_sigma']),2)\n",
    "    data['gamma_sigma'] = round(float(data['gamma_sigma']),2)\n",
    "    f.close()\n",
    "with open('constants/base_params_SBM.json', 'w') as f:\n",
    "    json.dump(data, f)\n",
    "    f.close()"
   ]
  },
  {
   "cell_type": "code",
   "execution_count": 355,
   "metadata": {},
   "outputs": [],
   "source": [
    "#save the median values to the .json file that we will use for the numerical simulation\n",
    "with open('constants/base_params_scale_free_CIA.json') as f:\n",
    "    data = json.load(f)\n",
    "    data['theta_sigma'] = np.median(samples.numpy(), axis=0)[0]\n",
    "    data['gamma_sigma'] = np.median(samples.numpy(), axis=0)[1]\n",
    "    #change the type from float32 to float\n",
    "    data['theta_sigma'] = round(float(data['theta_sigma']),2)\n",
    "    data['gamma_sigma'] = round(float(data['gamma_sigma']),2)\n",
    "    f.close()\n",
    "with open('constants/base_params_scale_free_CIA.json', 'w') as f:\n",
    "    json.dump(data, f)\n",
    "    f.close()"
   ]
  },
  {
   "cell_type": "code",
   "execution_count": 356,
   "metadata": {},
   "outputs": [],
   "source": [
    "#save the median values to the .json file that we will use for the numerical simulation\n",
    "with open('constants/base_params_scale_free_CMA.json') as f:\n",
    "    data = json.load(f)\n",
    "    data['theta_sigma'] = np.median(samples.numpy(), axis=0)[0]\n",
    "    data['gamma_sigma'] = np.median(samples.numpy(), axis=0)[1]\n",
    "    #change the type from float32 to float\n",
    "    data['theta_sigma'] = round(float(data['theta_sigma']),2)\n",
    "    data['gamma_sigma'] = round(float(data['gamma_sigma']),2)\n",
    "    f.close()\n",
    "with open('constants/base_params_scale_free_CMA.json', 'w') as f:\n",
    "    json.dump(data, f)\n",
    "    f.close()"
   ]
  },
  {
   "cell_type": "code",
   "execution_count": 9,
   "metadata": {},
   "outputs": [
    {
     "data": {
      "text/html": [
       "<div>\n",
       "<style scoped>\n",
       "    .dataframe tbody tr th:only-of-type {\n",
       "        vertical-align: middle;\n",
       "    }\n",
       "\n",
       "    .dataframe tbody tr th {\n",
       "        vertical-align: top;\n",
       "    }\n",
       "\n",
       "    .dataframe thead th {\n",
       "        text-align: right;\n",
       "    }\n",
       "</style>\n",
       "<table border=\"1\" class=\"dataframe\">\n",
       "  <thead>\n",
       "    <tr style=\"text-align: right;\">\n",
       "      <th></th>\n",
       "      <th>0</th>\n",
       "      <th>1</th>\n",
       "    </tr>\n",
       "  </thead>\n",
       "  <tbody>\n",
       "    <tr>\n",
       "      <th>count</th>\n",
       "      <td>100000.000000</td>\n",
       "      <td>100000.000000</td>\n",
       "    </tr>\n",
       "    <tr>\n",
       "      <th>mean</th>\n",
       "      <td>0.894004</td>\n",
       "      <td>1.342497</td>\n",
       "    </tr>\n",
       "    <tr>\n",
       "      <th>std</th>\n",
       "      <td>0.475267</td>\n",
       "      <td>0.266986</td>\n",
       "    </tr>\n",
       "    <tr>\n",
       "      <th>min</th>\n",
       "      <td>0.100034</td>\n",
       "      <td>0.112737</td>\n",
       "    </tr>\n",
       "    <tr>\n",
       "      <th>25%</th>\n",
       "      <td>0.503914</td>\n",
       "      <td>1.177635</td>\n",
       "    </tr>\n",
       "    <tr>\n",
       "      <th>50%</th>\n",
       "      <td>0.838877</td>\n",
       "      <td>1.356697</td>\n",
       "    </tr>\n",
       "    <tr>\n",
       "      <th>75%</th>\n",
       "      <td>1.249796</td>\n",
       "      <td>1.526428</td>\n",
       "    </tr>\n",
       "    <tr>\n",
       "      <th>max</th>\n",
       "      <td>1.999917</td>\n",
       "      <td>1.999933</td>\n",
       "    </tr>\n",
       "  </tbody>\n",
       "</table>\n",
       "</div>"
      ],
      "text/plain": [
       "                   0              1\n",
       "count  100000.000000  100000.000000\n",
       "mean        0.894004       1.342497\n",
       "std         0.475267       0.266986\n",
       "min         0.100034       0.112737\n",
       "25%         0.503914       1.177635\n",
       "50%         0.838877       1.356697\n",
       "75%         1.249796       1.526428\n",
       "max         1.999917       1.999933"
      ]
     },
     "execution_count": 9,
     "metadata": {},
     "output_type": "execute_result"
    }
   ],
   "source": [
    "#get the mean, mode, 5% and 95% quantiles of the posterior by leveraging pandas\n",
    "posterior_samples_df = pd.DataFrame(samples)\n",
    "posterior_samples_df.describe()"
   ]
  },
  {
   "cell_type": "code",
   "execution_count": 342,
   "metadata": {},
   "outputs": [
    {
     "data": {
      "image/png": "[encoded data removed]",
      "text/plain": [
       "<Figure size 500x500 with 4 Axes>"
      ]
     },
     "metadata": {},
     "output_type": "display_data"
    }
   ],
   "source": [
    "# plot posterior samples\n",
    "fig, ax = pairplot(\n",
    "    samples, limits=[param_1_bounds, param_2_bounds], figsize=(5, 5),\n",
    "    #points=[np.median(samples.numpy(), axis=0)],\n",
    "                      #points_colors='k',\n",
    "    labels=[r'$\\sigma_{\\eta}$', r'$\\sigma_{\\nu}$']\n",
    ")\n",
    "# Save the figure\n",
    "#plt.savefig('Figures/posterior_samples.png')"
   ]
  },
  {
   "cell_type": "code",
   "execution_count": 336,
   "metadata": {},
   "outputs": [
    {
     "name": "stdout",
     "output_type": "stream",
     "text": [
      "Skewness of the true data:  tensor(0.2563, dtype=torch.float64)\n",
      "Kurtosis of the true data:  tensor(5.5429, dtype=torch.float64)\n",
      "Skewness of the implied data:  0.02813508444749916\n",
      "Kurtosis of the implied data:  4.758463147653097\n"
     ]
    }
   ],
   "source": [
    "#compute simulated data for 1000 runs, with those parameters and compare with the real data\n",
    "implied_data = [simulator_base(np.median(samples.numpy(), axis=0)) for _ in range(10)]\n",
    "sim_skew, sim_kurt = np.median(implied_data, axis=0)\n",
    "\n",
    "\n",
    "print(\"Skewness of the true data: \", real_data[0])\n",
    "print(\"Kurtosis of the true data: \", real_data[1])\n",
    "print(\"Skewness of the implied data: \", sim_skew)\n",
    "print(\"Kurtosis of the implied data: \", sim_kurt)\n",
    "\n"
   ]
  },
  {
   "cell_type": "markdown",
   "metadata": {},
   "source": [
    "# Train the SNPE again\n",
    "\n",
    "This part of the code should be run only if you want to retrain the Neural Approximator"
   ]
  },
  {
   "cell_type": "code",
   "execution_count": 165,
   "metadata": {},
   "outputs": [],
   "source": [
    "# num_dim = 2\n",
    "# #Define the prior\n",
    "# prior = utils.BoxUniform(low=torch.tensor([param_1_bounds[0], param_2_bounds[0]]),\n",
    "#                           high=torch.tensor([param_1_bounds[1], param_2_bounds[1]]))\n",
    "\n"
   ]
  },
  {
   "cell_type": "code",
   "execution_count": 166,
   "metadata": {},
   "outputs": [],
   "source": [
    "# # Check prior, return PyTorch prior.\n",
    "# prior, num_parameters, prior_returns_numpy = process_prior(prior)\n",
    "\n",
    "# # Check simulator, returns PyTorch simulator able to simulate batches.\n",
    "# simulator = process_simulator(simulator_base, prior, prior_returns_numpy)\n",
    "\n",
    "# # Consistency check after making ready for sbi.\n",
    "# check_sbi_inputs(simulator, prior)\n",
    "\n",
    "# # Then, we instantiate the inference object\n",
    "# inference = SNPE(prior=prior)\n",
    "\n",
    "# theta, x = simulate_for_sbi(simulator, proposal=prior, num_simulations=10_000)\n",
    "\n",
    "# inference = inference.append_simulations(theta, x)\n",
    "# density_estimator = inference.train(force_first_round_loss=True)\n",
    "\n",
    "# posterior = inference.build_posterior(density_estimator)\n",
    "\n",
    "# #save the posterior to a torch file\n",
    "# torch.save(posterior, 'posterior_model.pt')"
   ]
  }
 ],
 "metadata": {
  "kernelspec": {
   "display_name": "my_venv",
   "language": "python",
   "name": "python3"
  },
  "language_info": {
   "codemirror_mode": {
    "name": "ipython",
    "version": 3
   },
   "file_extension": ".py",
   "mimetype": "text/x-python",
   "name": "python",
   "nbconvert_exporter": "python",
   "pygments_lexer": "ipython3",
   "version": "3.12.0"
  }
 },
 "nbformat": 4,
 "nbformat_minor": 2
}
