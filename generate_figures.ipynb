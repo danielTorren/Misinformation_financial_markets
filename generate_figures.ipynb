{
 "cells": [
  {
   "cell_type": "code",
   "execution_count": null,
   "metadata": {},
   "outputs": [],
   "source": [
    "import gen_vary_single_param as gvsp"
   ]
  },
  {
   "cell_type": "markdown",
   "metadata": {},
   "source": [
    "First we generate the figures for the different network toplogies. Data is obtained by using the module 'gen_vary_single_param.py'. In this case the property varied is the stochastic seed, defined by the parameter 'set_seed' and the property list is defined in the property_list variable. We need to run this code for each different network topolgy.\n"
   ]
  },
  {
   "cell_type": "code",
   "execution_count": null,
   "metadata": {},
   "outputs": [],
   "source": [
    "\"\"\"Choose the network topology here, among: \n",
    "    - 'small-world' \n",
    "    - 'SBM', \n",
    "    - 'scale_free_info', \n",
    "    - 'scale_free_misinfo'\n",
    "\"\"\"\n",
    "network_topology = 'small-world'"
   ]
  },
  {
   "cell_type": "code",
   "execution_count": null,
   "metadata": {},
   "outputs": [],
   "source": [
    "property_varied = \"set_seed\"\n",
    "property_list = list(range(11,41))\n",
    "fileName = gvsp.main(property_varied, property_list)"
   ]
  },
  {
   "cell_type": "markdown",
   "metadata": {},
   "source": []
  }
 ],
 "metadata": {
  "kernelspec": {
   "display_name": "my_venv",
   "language": "python",
   "name": "python3"
  },
  "language_info": {
   "file_extension": ".jl",
   "mimetype": "application/julia",
   "name": "python",
   "version": "3.12.0"
  }
 },
 "nbformat": 4,
 "nbformat_minor": 2
}
