{
 "cells": [
  {
   "cell_type": "code",
   "execution_count": 2,
   "metadata": {},
   "outputs": [],
   "source": [
    "import networkx as nx\n",
    "import numpy as np"
   ]
  },
  {
   "cell_type": "code",
   "execution_count": 112,
   "metadata": {},
   "outputs": [],
   "source": [
    "# small world\n",
    "I = 10\n",
    "network_density = 1\n",
    "K = int(round((I - 1)*network_density))\n",
    "prob_rewire = 0.01\n",
    "set_seed = 0\n",
    "G = nx.watts_strogatz_graph(n=I, k=K, p=prob_rewire, seed=set_seed)  # Watts–Strogatz small-world graph,watts_strogatz_graph( n, k, p[, seed])"
   ]
  },
  {
   "cell_type": "code",
   "execution_count": 108,
   "metadata": {},
   "outputs": [],
   "source": [
    "def create_adjacency_matrix(I, network_density, K, prob_rewire, set_seed, network_type):\n",
    "        if network_type == \"scale_free\":\n",
    "            G = nx.scale_free_graph(I)\n",
    "        elif network_type == \"small-world\":\n",
    "            G = nx.watts_strogatz_graph(n=I, k=K, p=prob_rewire, seed=set_seed)  # Watts–Strogatz small-world graph,watts_strogatz_graph( n, k, p[, seed])\n",
    "        elif network_type == \"SBM\":\n",
    "            block_sizes = [int(I/2), int(I/2)]  # Adjust the sizes as needed\n",
    "            # Create the stochastic block model. we keep the same network density in the same block \n",
    "            # and a tenth of the network density between blocks\n",
    "            block_probs = np.asarray([[network_density, network_density/10],[network_density/10, network_density]])  # Make the matrix symmetric\n",
    "            G = nx.stochastic_block_model(block_sizes, block_probs, seed=set_seed)\n",
    "        adjacency_matrix = nx.to_numpy_array(G)\n",
    "        #fill the diagonal with 1s\n",
    "        np.fill_diagonal(adjacency_matrix, 1)\n",
    "        # remove parallel edges\n",
    "        adjacency_matrix[adjacency_matrix > 1] = 1\n",
    "        #transform zeros to np.nans\n",
    "        adjacency_matrix[adjacency_matrix == 0] = np.nan\n",
    "        return adjacency_matrix,G\n"
   ]
  },
  {
   "cell_type": "code",
   "execution_count": 109,
   "metadata": {},
   "outputs": [],
   "source": [
    "adjacency_matrix, G = create_adjacency_matrix(I, network_density, K, prob_rewire, set_seed, \"small-world\")"
   ]
  },
  {
   "cell_type": "code",
   "execution_count": 111,
   "metadata": {},
   "outputs": [],
   "source": [
    "a, b, c = 0, 0, 0"
   ]
  },
  {
   "cell_type": "code",
   "execution_count": 97,
   "metadata": {},
   "outputs": [],
   "source": [
    "# scale free\n",
    "SF = nx.scale_free_graph(I)\n",
    "SF_adjacency_matrix = nx.to_numpy_array(SF)\n",
    "# cap at 1 \n",
    "#SF_adjacency_matrix[SF_adjacency_matrix > 1] = 1\n",
    "# fill diagonal with 1\n",
    "np.fill_diagonal(SF_adjacency_matrix, 1)\n",
    "\n",
    "#check if it is symmetric\n",
    "#assert np.allclose(G.adjacency_matrix, G.adjacency_matrix.T, atol=1e-8), \"Adjacency matrix is not symmetric\""
   ]
  },
  {
   "cell_type": "code",
   "execution_count": 100,
   "metadata": {},
   "outputs": [
    {
     "data": {
      "text/plain": [
       "array([[1., 1., 0., 0., 0., 0., 0., 0., 0., 0.],\n",
       "       [0., 1., 1., 0., 0., 1., 0., 1., 0., 0.],\n",
       "       [1., 1., 1., 0., 0., 0., 0., 0., 0., 0.],\n",
       "       [1., 1., 1., 1., 0., 0., 0., 0., 0., 0.],\n",
       "       [1., 1., 0., 0., 1., 0., 0., 0., 0., 0.],\n",
       "       [0., 0., 0., 0., 0., 1., 0., 0., 0., 0.],\n",
       "       [0., 1., 0., 0., 0., 0., 1., 0., 0., 0.],\n",
       "       [0., 0., 0., 0., 0., 0., 0., 1., 0., 0.],\n",
       "       [0., 1., 0., 0., 0., 0., 0., 0., 1., 0.],\n",
       "       [1., 0., 0., 0., 0., 0., 0., 0., 0., 1.]])"
      ]
     },
     "execution_count": 100,
     "metadata": {},
     "output_type": "execute_result"
    }
   ],
   "source": [
    "SF_adjacency_matrix[SF_adjacency_matrix > 1] = 1\n",
    "SF_adjacency_matrix"
   ]
  },
  {
   "cell_type": "code",
   "execution_count": 101,
   "metadata": {},
   "outputs": [
    {
     "data": {
      "image/png": "[encoded data removed]",
      "text/plain": [
       "<Figure size 640x480 with 1 Axes>"
      ]
     },
     "metadata": {},
     "output_type": "display_data"
    }
   ],
   "source": [
    "nx.draw(SF, with_labels=True)"
   ]
  },
  {
   "cell_type": "code",
   "execution_count": 66,
   "metadata": {},
   "outputs": [],
   "source": [
    "#barabasi albert\n",
    "BA = nx.barabasi_albert_graph(I, 2)\n",
    "BA_adjacency_matrix = nx.to_numpy_array(BA)\n",
    "\n",
    "#check if it is symmetric\n",
    "assert np.allclose(BA_adjacency_matrix, BA_adjacency_matrix.T, atol=1e-8), \"Adjacency matrix is not symmetric\""
   ]
  },
  {
   "cell_type": "code",
   "execution_count": 148,
   "metadata": {},
   "outputs": [],
   "source": [
    "block_sizes = [int(I/2), int(I/2)]  # Adjust the sizes as needed\n",
    "num_blocks = len(block_sizes)\n",
    "# Create the stochastic block model\n",
    "block_probs = np.asarray([[0.5, 0.01],[0.01, 0.5]])  # Make the matrix symmetric\n",
    "G = nx.stochastic_block_model(block_sizes, block_probs, seed=set_seed)\n",
    "#make diagonal 1\n",
    "np.fill_diagonal(nx.to_numpy_array(G), 1)\n",
    "#chnage zeros to nans\n",
    "G_adjacency_matrix = nx.to_numpy_array(G)\n",
    "G_adjacency_matrix[G_adjacency_matrix == 0] = np.nan"
   ]
  },
  {
   "cell_type": "code",
   "execution_count": 149,
   "metadata": {},
   "outputs": [
    {
     "data": {
      "text/plain": [
       "array([[2., 2., 2., 1., 1., 2., 2., 2., 2., 2.],\n",
       "       [2., 2., 2., 1., 2., 2., 2., 2., 2., 2.],\n",
       "       [2., 2., 2., 1., 1., 2., 2., 2., 2., 2.],\n",
       "       [1., 1., 1., 2., 2., 2., 2., 2., 2., 2.],\n",
       "       [1., 2., 1., 2., 2., 2., 2., 2., 2., 2.],\n",
       "       [2., 2., 2., 2., 2., 2., 1., 2., 2., 1.],\n",
       "       [2., 2., 2., 2., 2., 1., 2., 2., 2., 2.],\n",
       "       [2., 2., 2., 2., 2., 2., 2., 2., 2., 1.],\n",
       "       [2., 2., 2., 2., 2., 2., 2., 2., 2., 2.],\n",
       "       [2., 2., 2., 2., 2., 1., 2., 1., 2., 2.]])"
      ]
     },
     "execution_count": 149,
     "metadata": {},
     "output_type": "execute_result"
    }
   ],
   "source": [
    "G_adjacency_matrix[np.isnan(G_adjacency_matrix)] = 2\n",
    "G_adjacency_matrix"
   ]
  },
  {
   "cell_type": "code",
   "execution_count": 154,
   "metadata": {},
   "outputs": [
    {
     "data": {
      "text/plain": [
       "array([[ 6.,  3.,  2.],\n",
       "       [30., 24., 20.],\n",
       "       [72., 63., 56.]])"
      ]
     },
     "execution_count": 154,
     "metadata": {},
     "output_type": "execute_result"
    }
   ],
   "source": [
    "#current matrix\n",
    "x = np.array([[1, 2, 3], [4, 5, 6], [7, 8, 9]])\n",
    "\n",
    "# obtain a matrix of the same dimension where each entry in the row is the product of all elements in the row\n",
    "sigma = np.transpose(np.prod(x, axis=1) * np.ones((x.shape[0], x.shape[1])))/x\n",
    "sigma\n"
   ]
  },
  {
   "cell_type": "code",
   "execution_count": 232,
   "metadata": {},
   "outputs": [],
   "source": [
    "def compute_weighting_matrix(x):\n",
    "    # first fill the nan to one since they are invariant to multiplication\n",
    "    filled_with_one = np.copy(x)\n",
    "    filled_with_one[np.isnan(x)] = 1\n",
    "    numerator = np.transpose(np.prod(filled_with_one, axis=1) * np.ones((x.shape[0], x.shape[1])))/ (filled_with_one)\n",
    "    prod = np.prod(filled_with_one, axis=1)\n",
    "    #then replace the position in the numerator with 0 where x was nan\n",
    "    filled_with_zeros = np.copy(numerator)\n",
    "    filled_with_zeros[np.isnan(x)] = 0\n",
    "    # then divide the numerato by the sum of filled_with_zeros over rows\n",
    "    return np.transpose(np.transpose(numerator)/np.sum(filled_with_zeros, axis=1)), prod/np.sum(filled_with_zeros, axis=1)\n",
    "    "
   ]
  },
  {
   "cell_type": "code",
   "execution_count": 228,
   "metadata": {},
   "outputs": [],
   "source": [
    "def compute_posterior_mean_vector(x, y):\n",
    "        # multiply the weighting matrix by the prior mean matrix, then sum over the rows\n",
    "        return np.sum(x*y, axis = 1)"
   ]
  },
  {
   "cell_type": "code",
   "execution_count": 248,
   "metadata": {},
   "outputs": [
    {
     "data": {
      "text/plain": [
       "array([1.        , 0.53333333, 0.27272727])"
      ]
     },
     "execution_count": 248,
     "metadata": {},
     "output_type": "execute_result"
    }
   ],
   "source": [
    "prior_mean_matrix = np.array([[1, 0, 0.5], [0, 0.6, 0.5], [0, 0, 0.5]])\n",
    "prior_variance_matrix = np.array([[0.0, np.nan, 0.1], [np.nan, 0.2, 0.1], [0.3, 0.2, 0.1]]) + 1e-14\n",
    "weighting_matrix, posterior_variance = compute_weighting_matrix(prior_variance_matrix)\n",
    "compute_posterior_mean_vector(weighting_matrix, prior_mean_matrix)"
   ]
  },
  {
   "cell_type": "code",
   "execution_count": 251,
   "metadata": {},
   "outputs": [
    {
     "data": {
      "text/plain": [
       "array([[           nan, 1.00000000e-14, 1.00000000e-13],\n",
       "       [6.66666667e-02,            nan, 6.66666667e-01],\n",
       "       [1.81818182e-01, 2.72727273e-01, 5.45454545e-01]])"
      ]
     },
     "execution_count": 251,
     "metadata": {},
     "output_type": "execute_result"
    }
   ],
   "source": [
    "weighting_matrix"
   ]
  },
  {
   "cell_type": "code",
   "execution_count": 250,
   "metadata": {},
   "outputs": [],
   "source": [
    "# change only the first and last diagonal to nan\n",
    "np.fill_diagonal(weighting_matrix[:2,:2], np.nan)\n"
   ]
  },
  {
   "cell_type": "code",
   "execution_count": 211,
   "metadata": {},
   "outputs": [
    {
     "data": {
      "text/plain": [
       "array([[0.25      , 0.075     , 0.75      ],\n",
       "       [0.06666667, 0.33333333, 0.66666667],\n",
       "       [0.18181818, 0.27272727, 0.54545455]])"
      ]
     },
     "execution_count": 211,
     "metadata": {},
     "output_type": "execute_result"
    }
   ],
   "source": [
    "filled_with_one = np.copy(prior_variance_matrix)\n",
    "filled_with_one[np.isnan(prior_variance_matrix)] = 1\n",
    "numerator = np.transpose(np.prod(filled_with_one, axis=1) * np.ones((3, 3)))/filled_with_one\n",
    "filled_with_zeros = np.copy(numerator)\n",
    "filled_with_zeros[np.isnan(prior_variance_matrix)] = 0\n",
    "np.transpose(np.transpose(numerator)/np.sum(filled_with_zeros, axis=1))"
   ]
  },
  {
   "cell_type": "code",
   "execution_count": 210,
   "metadata": {},
   "outputs": [
    {
     "data": {
      "text/plain": [
       "array([0.4 , 0.3 , 0.11])"
      ]
     },
     "execution_count": 210,
     "metadata": {},
     "output_type": "execute_result"
    }
   ],
   "source": [
    "np.sum(filled_with_zeros, axis=1)"
   ]
  },
  {
   "cell_type": "code",
   "execution_count": 74,
   "metadata": {},
   "outputs": [
    {
     "name": "stdout",
     "output_type": "stream",
     "text": [
      "[ 1.  1.  1.  0.  0.  0.  0.  0. -1. -1.]\n"
     ]
    }
   ],
   "source": [
    "def create_category_vector(I, num_info, num_misinfo):\n",
    "            # 0 indicates uninformed agents, 1 indicates informed agents, -1 indicates misinformed agents\n",
    "            # intialize vector of zeros of length I\n",
    "            category_vector = np.zeros(I)\n",
    "            # select the first num_info indices to be 1\n",
    "            category_vector[: num_info] = 1\n",
    "            # select the last num_misinfo indices to be -1\n",
    "            category_vector[-num_misinfo :] = -1\n",
    "            return category_vector\n",
    "\n",
    "x = create_category_vector(10, 3, 2)\n",
    "print(x)"
   ]
  },
  {
   "cell_type": "code",
   "execution_count": 252,
   "metadata": {},
   "outputs": [],
   "source": [
    "prior_vector = np.array([0.1, 0.2, 0.3, 0.4, 0.5, 0.6, 0.7, 0.8, 0.9, 1.0])"
   ]
  },
  {
   "cell_type": "code",
   "execution_count": 254,
   "metadata": {},
   "outputs": [
    {
     "data": {
      "text/plain": [
       "array([0.1, 0.2, 0.3, 0.4, 0.5, 1. , 1. , 1. , 1. , 1. ])"
      ]
     },
     "execution_count": 254,
     "metadata": {},
     "output_type": "execute_result"
    }
   ],
   "source": [
    "new_vector = np.copy(prior_vector)\n",
    "np.where(new_vector > 0.5, 1, new_vector)"
   ]
  }
 ],
 "metadata": {
  "kernelspec": {
   "display_name": "my_venv",
   "language": "python",
   "name": "python3"
  },
  "language_info": {
   "codemirror_mode": {
    "name": "ipython",
    "version": 3
   },
   "file_extension": ".py",
   "mimetype": "text/x-python",
   "name": "python",
   "nbconvert_exporter": "python",
   "pygments_lexer": "ipython3",
   "version": "3.12.0"
  }
 },
 "nbformat": 4,
 "nbformat_minor": 2
}
